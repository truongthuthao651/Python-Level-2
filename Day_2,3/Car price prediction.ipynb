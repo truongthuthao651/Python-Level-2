{
 "cells": [
  {
   "cell_type": "markdown",
   "metadata": {},
   "source": [
    "# Assignment 1: How much does your car cost?\n",
    "\n",
    "## Data\n",
    "\n",
    "The retail price of 2005 General Motors cars can be found in `car_data.csv`.\n",
    "\n",
    "**Data Descriptions**:\n",
    "\n",
    "||Features|Descriptions\n",
    "|-|-|-|\n",
    "|1| Price   | suggested retail price of the used 2005 GM car in excellent condition|\n",
    "|2| Mileage | number of miles the car has been driven|\n",
    "|3| Make    | manufacturer of the car such as Saturn, Pontiac, and Chevrolet|\n",
    "|4| Model   | specific models for each car manufacturer such as Ion, Vibe, Cavalier|\n",
    "|5| Trim (of car)| specific type of car model such as SE Sedan 4D, Quad Coupe 2D |         \n",
    "|6| Type    | body type such as sedan, coupe, etc |\n",
    "|7| Cylinder| number of cylinders in the engine    |    \n",
    "|8| Liter   | a more specific measure of engine size|     \n",
    "|9| Doors   | number of doors           |\n",
    "|10| Cruise | indicator variable representing whether the car has cruise control (1 = cruise)|\n",
    "|11| Sound  | indicator variable representing whether the car has upgraded speakers (1 = upgraded)|\n",
    "|12| Leather| indicator variable representing whether the car has leather seats (1 = leather)|"
   ]
  },
  {
   "cell_type": "markdown",
   "metadata": {},
   "source": [
    "#### 1. Import necessary libraries"
   ]
  },
  {
   "cell_type": "code",
   "execution_count": 85,
   "metadata": {},
   "outputs": [],
   "source": [
    "# Libraries to load data\n",
    "import pandas as pd\n",
    "import numpy as np\n",
    "# Libraries to visualize\n",
    "import matplotlib.pyplot as plt\n",
    "import seaborn as sns\n",
    "# Libraries to create and evaluate models\n",
    "from sklearn.linear_model import LinearRegression\n",
    "from sklearn.model_selection import train_test_split\n",
    "from sklearn.metrics import mean_absolute_error, mean_squared_error, r2_score"
   ]
  },
  {
   "cell_type": "markdown",
   "metadata": {},
   "source": [
    "#### 2. Load the data from csv file to `pandas` dataframe"
   ]
  },
  {
   "cell_type": "code",
   "execution_count": 2,
   "metadata": {},
   "outputs": [],
   "source": [
    "df = pd.read_csv('car_data.csv')"
   ]
  },
  {
   "cell_type": "markdown",
   "metadata": {},
   "source": [
    "#### 3. Inspect the first 5 rows of the dataframe"
   ]
  },
  {
   "cell_type": "code",
   "execution_count": 3,
   "metadata": {},
   "outputs": [
    {
     "data": {
      "text/html": [
       "<div>\n",
       "<style scoped>\n",
       "    .dataframe tbody tr th:only-of-type {\n",
       "        vertical-align: middle;\n",
       "    }\n",
       "\n",
       "    .dataframe tbody tr th {\n",
       "        vertical-align: top;\n",
       "    }\n",
       "\n",
       "    .dataframe thead th {\n",
       "        text-align: right;\n",
       "    }\n",
       "</style>\n",
       "<table border=\"1\" class=\"dataframe\">\n",
       "  <thead>\n",
       "    <tr style=\"text-align: right;\">\n",
       "      <th></th>\n",
       "      <th>Price</th>\n",
       "      <th>Mileage</th>\n",
       "      <th>Make</th>\n",
       "      <th>Model</th>\n",
       "      <th>Trim</th>\n",
       "      <th>Type</th>\n",
       "      <th>Cylinder</th>\n",
       "      <th>Liter</th>\n",
       "      <th>Doors</th>\n",
       "      <th>Cruise</th>\n",
       "      <th>Sound</th>\n",
       "      <th>Leather</th>\n",
       "    </tr>\n",
       "  </thead>\n",
       "  <tbody>\n",
       "    <tr>\n",
       "      <th>0</th>\n",
       "      <td>17314.103129</td>\n",
       "      <td>8221</td>\n",
       "      <td>Buick</td>\n",
       "      <td>Century</td>\n",
       "      <td>Sedan 4D</td>\n",
       "      <td>Sedan</td>\n",
       "      <td>6</td>\n",
       "      <td>3.1</td>\n",
       "      <td>4</td>\n",
       "      <td>1</td>\n",
       "      <td>1</td>\n",
       "      <td>1</td>\n",
       "    </tr>\n",
       "    <tr>\n",
       "      <th>1</th>\n",
       "      <td>17542.036083</td>\n",
       "      <td>9135</td>\n",
       "      <td>Buick</td>\n",
       "      <td>Century</td>\n",
       "      <td>Sedan 4D</td>\n",
       "      <td>Sedan</td>\n",
       "      <td>6</td>\n",
       "      <td>3.1</td>\n",
       "      <td>4</td>\n",
       "      <td>1</td>\n",
       "      <td>1</td>\n",
       "      <td>0</td>\n",
       "    </tr>\n",
       "    <tr>\n",
       "      <th>2</th>\n",
       "      <td>16218.847862</td>\n",
       "      <td>13196</td>\n",
       "      <td>Buick</td>\n",
       "      <td>Century</td>\n",
       "      <td>Sedan 4D</td>\n",
       "      <td>Sedan</td>\n",
       "      <td>6</td>\n",
       "      <td>3.1</td>\n",
       "      <td>4</td>\n",
       "      <td>1</td>\n",
       "      <td>1</td>\n",
       "      <td>0</td>\n",
       "    </tr>\n",
       "    <tr>\n",
       "      <th>3</th>\n",
       "      <td>16336.913140</td>\n",
       "      <td>16342</td>\n",
       "      <td>Buick</td>\n",
       "      <td>Century</td>\n",
       "      <td>Sedan 4D</td>\n",
       "      <td>Sedan</td>\n",
       "      <td>6</td>\n",
       "      <td>3.1</td>\n",
       "      <td>4</td>\n",
       "      <td>1</td>\n",
       "      <td>0</td>\n",
       "      <td>0</td>\n",
       "    </tr>\n",
       "    <tr>\n",
       "      <th>4</th>\n",
       "      <td>16339.170324</td>\n",
       "      <td>19832</td>\n",
       "      <td>Buick</td>\n",
       "      <td>Century</td>\n",
       "      <td>Sedan 4D</td>\n",
       "      <td>Sedan</td>\n",
       "      <td>6</td>\n",
       "      <td>3.1</td>\n",
       "      <td>4</td>\n",
       "      <td>1</td>\n",
       "      <td>0</td>\n",
       "      <td>1</td>\n",
       "    </tr>\n",
       "  </tbody>\n",
       "</table>\n",
       "</div>"
      ],
      "text/plain": [
       "          Price  Mileage   Make    Model      Trim   Type  Cylinder  Liter  \\\n",
       "0  17314.103129     8221  Buick  Century  Sedan 4D  Sedan         6    3.1   \n",
       "1  17542.036083     9135  Buick  Century  Sedan 4D  Sedan         6    3.1   \n",
       "2  16218.847862    13196  Buick  Century  Sedan 4D  Sedan         6    3.1   \n",
       "3  16336.913140    16342  Buick  Century  Sedan 4D  Sedan         6    3.1   \n",
       "4  16339.170324    19832  Buick  Century  Sedan 4D  Sedan         6    3.1   \n",
       "\n",
       "   Doors  Cruise  Sound  Leather  \n",
       "0      4       1      1        1  \n",
       "1      4       1      1        0  \n",
       "2      4       1      1        0  \n",
       "3      4       1      0        0  \n",
       "4      4       1      0        1  "
      ]
     },
     "execution_count": 3,
     "metadata": {},
     "output_type": "execute_result"
    }
   ],
   "source": [
    "df.head()"
   ]
  },
  {
   "cell_type": "markdown",
   "metadata": {},
   "source": [
    "#### 4. Check the number of rows and columns"
   ]
  },
  {
   "cell_type": "code",
   "execution_count": 4,
   "metadata": {},
   "outputs": [
    {
     "data": {
      "text/plain": [
       "(804, 12)"
      ]
     },
     "execution_count": 4,
     "metadata": {},
     "output_type": "execute_result"
    }
   ],
   "source": [
    "df.shape"
   ]
  },
  {
   "cell_type": "markdown",
   "metadata": {},
   "source": [
    "#### 5. Get some information about the dataset via `.info()`"
   ]
  },
  {
   "cell_type": "code",
   "execution_count": 5,
   "metadata": {},
   "outputs": [
    {
     "name": "stdout",
     "output_type": "stream",
     "text": [
      "<class 'pandas.core.frame.DataFrame'>\n",
      "RangeIndex: 804 entries, 0 to 803\n",
      "Data columns (total 12 columns):\n",
      " #   Column    Non-Null Count  Dtype  \n",
      "---  ------    --------------  -----  \n",
      " 0   Price     804 non-null    float64\n",
      " 1   Mileage   804 non-null    int64  \n",
      " 2   Make      804 non-null    object \n",
      " 3   Model     804 non-null    object \n",
      " 4   Trim      804 non-null    object \n",
      " 5   Type      804 non-null    object \n",
      " 6   Cylinder  804 non-null    int64  \n",
      " 7   Liter     804 non-null    float64\n",
      " 8   Doors     804 non-null    int64  \n",
      " 9   Cruise    804 non-null    int64  \n",
      " 10  Sound     804 non-null    int64  \n",
      " 11  Leather   804 non-null    int64  \n",
      "dtypes: float64(2), int64(6), object(4)\n",
      "memory usage: 75.5+ KB\n"
     ]
    }
   ],
   "source": [
    "df.info()"
   ]
  },
  {
   "cell_type": "markdown",
   "metadata": {},
   "source": [
    "#### 6. Check number of missing values per columns"
   ]
  },
  {
   "cell_type": "code",
   "execution_count": 6,
   "metadata": {},
   "outputs": [
    {
     "name": "stdout",
     "output_type": "stream",
     "text": [
      "804\n",
      "12\n"
     ]
    }
   ],
   "source": [
    "print(len(df))\n",
    "print(len(df.columns))"
   ]
  },
  {
   "cell_type": "code",
   "execution_count": 7,
   "metadata": {},
   "outputs": [
    {
     "data": {
      "text/plain": [
       "Price       0\n",
       "Mileage     0\n",
       "Make        0\n",
       "Model       0\n",
       "Trim        0\n",
       "Type        0\n",
       "Cylinder    0\n",
       "Liter       0\n",
       "Doors       0\n",
       "Cruise      0\n",
       "Sound       0\n",
       "Leather     0\n",
       "dtype: int64"
      ]
     },
     "execution_count": 7,
     "metadata": {},
     "output_type": "execute_result"
    }
   ],
   "source": [
    "df.isnull().sum()"
   ]
  },
  {
   "cell_type": "code",
   "execution_count": 8,
   "metadata": {},
   "outputs": [
    {
     "data": {
      "text/plain": [
       "77312"
      ]
     },
     "execution_count": 8,
     "metadata": {},
     "output_type": "execute_result"
    }
   ],
   "source": [
    "df.memory_usage().sum()"
   ]
  },
  {
   "cell_type": "markdown",
   "metadata": {},
   "source": [
    "#### 7. Get table of distributions each features and visualize this distribution."
   ]
  },
  {
   "cell_type": "code",
   "execution_count": 9,
   "metadata": {},
   "outputs": [
    {
     "data": {
      "text/html": [
       "<div>\n",
       "<style scoped>\n",
       "    .dataframe tbody tr th:only-of-type {\n",
       "        vertical-align: middle;\n",
       "    }\n",
       "\n",
       "    .dataframe tbody tr th {\n",
       "        vertical-align: top;\n",
       "    }\n",
       "\n",
       "    .dataframe thead th {\n",
       "        text-align: right;\n",
       "    }\n",
       "</style>\n",
       "<table border=\"1\" class=\"dataframe\">\n",
       "  <thead>\n",
       "    <tr style=\"text-align: right;\">\n",
       "      <th></th>\n",
       "      <th>Price</th>\n",
       "      <th>Mileage</th>\n",
       "      <th>Cylinder</th>\n",
       "      <th>Liter</th>\n",
       "      <th>Doors</th>\n",
       "      <th>Cruise</th>\n",
       "      <th>Sound</th>\n",
       "      <th>Leather</th>\n",
       "    </tr>\n",
       "  </thead>\n",
       "  <tbody>\n",
       "    <tr>\n",
       "      <th>count</th>\n",
       "      <td>804.000000</td>\n",
       "      <td>804.000000</td>\n",
       "      <td>804.000000</td>\n",
       "      <td>804.000000</td>\n",
       "      <td>804.000000</td>\n",
       "      <td>804.000000</td>\n",
       "      <td>804.000000</td>\n",
       "      <td>804.000000</td>\n",
       "    </tr>\n",
       "    <tr>\n",
       "      <th>mean</th>\n",
       "      <td>21343.143767</td>\n",
       "      <td>19831.934080</td>\n",
       "      <td>5.268657</td>\n",
       "      <td>3.037313</td>\n",
       "      <td>3.527363</td>\n",
       "      <td>0.752488</td>\n",
       "      <td>0.679104</td>\n",
       "      <td>0.723881</td>\n",
       "    </tr>\n",
       "    <tr>\n",
       "      <th>std</th>\n",
       "      <td>9884.852801</td>\n",
       "      <td>8196.319707</td>\n",
       "      <td>1.387531</td>\n",
       "      <td>1.105562</td>\n",
       "      <td>0.850169</td>\n",
       "      <td>0.431836</td>\n",
       "      <td>0.467111</td>\n",
       "      <td>0.447355</td>\n",
       "    </tr>\n",
       "    <tr>\n",
       "      <th>min</th>\n",
       "      <td>8638.930895</td>\n",
       "      <td>266.000000</td>\n",
       "      <td>4.000000</td>\n",
       "      <td>1.600000</td>\n",
       "      <td>2.000000</td>\n",
       "      <td>0.000000</td>\n",
       "      <td>0.000000</td>\n",
       "      <td>0.000000</td>\n",
       "    </tr>\n",
       "    <tr>\n",
       "      <th>25%</th>\n",
       "      <td>14273.073870</td>\n",
       "      <td>14623.500000</td>\n",
       "      <td>4.000000</td>\n",
       "      <td>2.200000</td>\n",
       "      <td>4.000000</td>\n",
       "      <td>1.000000</td>\n",
       "      <td>0.000000</td>\n",
       "      <td>0.000000</td>\n",
       "    </tr>\n",
       "    <tr>\n",
       "      <th>50%</th>\n",
       "      <td>18024.995019</td>\n",
       "      <td>20913.500000</td>\n",
       "      <td>6.000000</td>\n",
       "      <td>2.800000</td>\n",
       "      <td>4.000000</td>\n",
       "      <td>1.000000</td>\n",
       "      <td>1.000000</td>\n",
       "      <td>1.000000</td>\n",
       "    </tr>\n",
       "    <tr>\n",
       "      <th>75%</th>\n",
       "      <td>26717.316636</td>\n",
       "      <td>25213.000000</td>\n",
       "      <td>6.000000</td>\n",
       "      <td>3.800000</td>\n",
       "      <td>4.000000</td>\n",
       "      <td>1.000000</td>\n",
       "      <td>1.000000</td>\n",
       "      <td>1.000000</td>\n",
       "    </tr>\n",
       "    <tr>\n",
       "      <th>max</th>\n",
       "      <td>70755.466717</td>\n",
       "      <td>50387.000000</td>\n",
       "      <td>8.000000</td>\n",
       "      <td>6.000000</td>\n",
       "      <td>4.000000</td>\n",
       "      <td>1.000000</td>\n",
       "      <td>1.000000</td>\n",
       "      <td>1.000000</td>\n",
       "    </tr>\n",
       "  </tbody>\n",
       "</table>\n",
       "</div>"
      ],
      "text/plain": [
       "              Price       Mileage    Cylinder       Liter       Doors  \\\n",
       "count    804.000000    804.000000  804.000000  804.000000  804.000000   \n",
       "mean   21343.143767  19831.934080    5.268657    3.037313    3.527363   \n",
       "std     9884.852801   8196.319707    1.387531    1.105562    0.850169   \n",
       "min     8638.930895    266.000000    4.000000    1.600000    2.000000   \n",
       "25%    14273.073870  14623.500000    4.000000    2.200000    4.000000   \n",
       "50%    18024.995019  20913.500000    6.000000    2.800000    4.000000   \n",
       "75%    26717.316636  25213.000000    6.000000    3.800000    4.000000   \n",
       "max    70755.466717  50387.000000    8.000000    6.000000    4.000000   \n",
       "\n",
       "           Cruise       Sound     Leather  \n",
       "count  804.000000  804.000000  804.000000  \n",
       "mean     0.752488    0.679104    0.723881  \n",
       "std      0.431836    0.467111    0.447355  \n",
       "min      0.000000    0.000000    0.000000  \n",
       "25%      1.000000    0.000000    0.000000  \n",
       "50%      1.000000    1.000000    1.000000  \n",
       "75%      1.000000    1.000000    1.000000  \n",
       "max      1.000000    1.000000    1.000000  "
      ]
     },
     "execution_count": 9,
     "metadata": {},
     "output_type": "execute_result"
    }
   ],
   "source": [
    "df.describe()"
   ]
  },
  {
   "cell_type": "code",
   "execution_count": 10,
   "metadata": {},
   "outputs": [
    {
     "data": {
      "text/html": [
       "<div>\n",
       "<style scoped>\n",
       "    .dataframe tbody tr th:only-of-type {\n",
       "        vertical-align: middle;\n",
       "    }\n",
       "\n",
       "    .dataframe tbody tr th {\n",
       "        vertical-align: top;\n",
       "    }\n",
       "\n",
       "    .dataframe thead th {\n",
       "        text-align: right;\n",
       "    }\n",
       "</style>\n",
       "<table border=\"1\" class=\"dataframe\">\n",
       "  <thead>\n",
       "    <tr style=\"text-align: right;\">\n",
       "      <th></th>\n",
       "      <th>Make</th>\n",
       "      <th>Model</th>\n",
       "      <th>Trim</th>\n",
       "      <th>Type</th>\n",
       "    </tr>\n",
       "  </thead>\n",
       "  <tbody>\n",
       "    <tr>\n",
       "      <th>count</th>\n",
       "      <td>804</td>\n",
       "      <td>804</td>\n",
       "      <td>804</td>\n",
       "      <td>804</td>\n",
       "    </tr>\n",
       "    <tr>\n",
       "      <th>unique</th>\n",
       "      <td>6</td>\n",
       "      <td>32</td>\n",
       "      <td>47</td>\n",
       "      <td>5</td>\n",
       "    </tr>\n",
       "    <tr>\n",
       "      <th>top</th>\n",
       "      <td>Chevrolet</td>\n",
       "      <td>Cavalier</td>\n",
       "      <td>Sedan 4D</td>\n",
       "      <td>Sedan</td>\n",
       "    </tr>\n",
       "    <tr>\n",
       "      <th>freq</th>\n",
       "      <td>320</td>\n",
       "      <td>60</td>\n",
       "      <td>170</td>\n",
       "      <td>490</td>\n",
       "    </tr>\n",
       "  </tbody>\n",
       "</table>\n",
       "</div>"
      ],
      "text/plain": [
       "             Make     Model      Trim   Type\n",
       "count         804       804       804    804\n",
       "unique          6        32        47      5\n",
       "top     Chevrolet  Cavalier  Sedan 4D  Sedan\n",
       "freq          320        60       170    490"
      ]
     },
     "execution_count": 10,
     "metadata": {},
     "output_type": "execute_result"
    }
   ],
   "source": [
    "df[['Make','Model','Trim','Type']].describe()"
   ]
  },
  {
   "cell_type": "code",
   "execution_count": 11,
   "metadata": {},
   "outputs": [
    {
     "name": "stderr",
     "output_type": "stream",
     "text": [
      "C:\\Users\\HP\\anaconda3\\lib\\site-packages\\seaborn\\distributions.py:2619: FutureWarning: `distplot` is a deprecated function and will be removed in a future version. Please adapt your code to use either `displot` (a figure-level function with similar flexibility) or `histplot` (an axes-level function for histograms).\n",
      "  warnings.warn(msg, FutureWarning)\n"
     ]
    },
    {
     "data": {
      "image/png": "[encoded data removed]",
      "text/plain": [
       "<Figure size 432x288 with 1 Axes>"
      ]
     },
     "metadata": {
      "needs_background": "light"
     },
     "output_type": "display_data"
    }
   ],
   "source": [
    "sns.distplot(df['Mileage'], color='g')\n",
    "plt.show()"
   ]
  },
  {
   "cell_type": "code",
   "execution_count": 12,
   "metadata": {},
   "outputs": [
    {
     "data": {
      "image/png": "[encoded data removed]",
      "text/plain": [
       "<Figure size 432x288 with 1 Axes>"
      ]
     },
     "metadata": {
      "needs_background": "light"
     },
     "output_type": "display_data"
    }
   ],
   "source": [
    "sns.boxplot(data=df['Mileage'], color='yellow')\n",
    "plt.show()"
   ]
  },
  {
   "cell_type": "code",
   "execution_count": 38,
   "metadata": {},
   "outputs": [
    {
     "data": {
      "image/png": "[encoded data removed]",
      "text/plain": [
       "<Figure size 1008x360 with 1 Axes>"
      ]
     },
     "metadata": {
      "needs_background": "light"
     },
     "output_type": "display_data"
    }
   ],
   "source": [
    "plt.figure(figsize=(14,5))\n",
    "sns.boxplot(data=df.drop(columns=['Liter','Cylinder','Doors','Cruise','Sound','Leather']))\n",
    "plt.show()"
   ]
  },
  {
   "cell_type": "code",
   "execution_count": 39,
   "metadata": {},
   "outputs": [
    {
     "data": {
      "text/plain": [
       "<matplotlib.axes._subplots.AxesSubplot at 0x11fb3862dc0>"
      ]
     },
     "execution_count": 39,
     "metadata": {},
     "output_type": "execute_result"
    },
    {
     "data": {
      "image/png": "[encoded data removed]",
      "text/plain": [
       "<Figure size 432x288 with 1 Axes>"
      ]
     },
     "metadata": {
      "needs_background": "light"
     },
     "output_type": "display_data"
    }
   ],
   "source": [
    "sns.violinplot(data=df['Mileage'])"
   ]
  },
  {
   "cell_type": "markdown",
   "metadata": {},
   "source": [
    "#### 8. Visualize correlation coefficient between features and label."
   ]
  },
  {
   "cell_type": "code",
   "execution_count": 13,
   "metadata": {},
   "outputs": [
    {
     "data": {
      "image/png": "[encoded data removed]",
      "text/plain": [
       "<Figure size 432x288 with 2 Axes>"
      ]
     },
     "metadata": {
      "needs_background": "light"
     },
     "output_type": "display_data"
    }
   ],
   "source": [
    "sns.heatmap(df.drop(columns=['Doors','Cruise','Sound','Leather']).corr(), annot=True, linewidths=0.01, linecolor='black')\n",
    "plt.show()"
   ]
  },
  {
   "cell_type": "code",
   "execution_count": 29,
   "metadata": {},
   "outputs": [
    {
     "data": {
      "image/png": "[encoded data removed]",
      "text/plain": [
       "<Figure size 1440x432 with 3 Axes>"
      ]
     },
     "metadata": {
      "needs_background": "light"
     },
     "output_type": "display_data"
    }
   ],
   "source": [
    "fig, ax = plt.subplots(1,3, figsize=(20,6))\n",
    "ax[0].scatter(df.Mileage, df.Price)                        # ax ~ plot\n",
    "ax[0].set(xlabel='Mileage', ylabel='Price')\n",
    "ax[1].scatter(df.Cylinder, df.Price)\n",
    "ax[1].set(xlabel='Cylinder', ylabel='Price')\n",
    "ax[2].scatter(df.Liter, df.Price)\n",
    "ax[2].set(xlabel='Liter', ylabel='Price')\n",
    "plt.show()"
   ]
  },
  {
   "cell_type": "markdown",
   "metadata": {},
   "source": [
    "#### 9. Split the dataset into train and test set with ratio 90:10 with random seeds of 42."
   ]
  },
  {
   "cell_type": "code",
   "execution_count": 67,
   "metadata": {},
   "outputs": [],
   "source": [
    "from sklearn.model_selection import train_test_split"
   ]
  },
  {
   "cell_type": "code",
   "execution_count": 71,
   "metadata": {},
   "outputs": [],
   "source": [
    "X_train, X_test, y_train, y_test = train_test_split(df[['Cylinder','Mileage']], df.Price, test_size=0.1, random_state=42)   # auto if not write train_size/test_size is train/test=0.75/0.25"
   ]
  },
  {
   "cell_type": "code",
   "execution_count": 72,
   "metadata": {},
   "outputs": [
    {
     "data": {
      "text/plain": [
       "((723, 2), (723,), (81, 2), (81,))"
      ]
     },
     "execution_count": 72,
     "metadata": {},
     "output_type": "execute_result"
    }
   ],
   "source": [
    "X_train.shape, y_train.shape, X_test.shape, y_test.shape"
   ]
  },
  {
   "cell_type": "code",
   "execution_count": 73,
   "metadata": {},
   "outputs": [
    {
     "data": {
      "text/plain": [
       "LinearRegression()"
      ]
     },
     "execution_count": 73,
     "metadata": {},
     "output_type": "execute_result"
    }
   ],
   "source": [
    "model = LinearRegression()\n",
    "model.fit(X_train, y_train)"
   ]
  },
  {
   "cell_type": "code",
   "execution_count": 74,
   "metadata": {},
   "outputs": [
    {
     "data": {
      "text/plain": [
       "array([16952.57191393, 15855.97927401, 14966.80160635, 25589.62491013,\n",
       "       24137.12193569, 14286.08570605, 14863.31843346, 15920.73102815,\n",
       "       14217.89448229, 17004.31350038, 23790.18413062, 16213.53457226,\n",
       "       15764.60901586, 24409.5877464 , 16574.08071365, 24061.90223054,\n",
       "       24251.22260176, 31588.7542505 , 15880.50418782, 21049.22592836,\n",
       "       21982.36899029, 23706.29098034, 22873.34116384, 15691.1838166 ,\n",
       "       22831.31981762, 24909.05855198, 26460.70797675, 22558.85400691,\n",
       "       15702.54902056, 23396.58917244, 15669.94883026, 25959.29312312,\n",
       "       17135.46197238, 18075.93260002, 25135.31583607, 24796.45330749,\n",
       "       15358.75160079, 24313.1330549 , 24258.55016747, 16557.33199203,\n",
       "       23932.24918011, 14283.24440506, 17644.05484956, 23817.2512611 ,\n",
       "       15503.35886696, 18079.5216118 , 21937.8054274 , 23041.72563303,\n",
       "       24000.73948818, 23372.81196942, 25911.88825924, 26017.16593802,\n",
       "       13962.62601968, 17331.96036715, 18965.11026768, 15133.98973828,\n",
       "       15237.32336901, 31838.48965329, 15805.43402482, 15554.50228477,\n",
       "       15761.76771487, 16219.21717424, 34426.16714424, 17613.09962299,\n",
       "       17171.65117446, 15047.85345564, 15636.75047132, 23103.33700186,\n",
       "       24506.19198006, 32668.59816879, 23917.893133  , 17004.76212685,\n",
       "       15391.65087541, 24838.1755694 , 23959.91447922, 24837.27831645,\n",
       "       15561.23168185, 15996.54890193, 15972.47261459, 15216.53700914,\n",
       "       14654.8566661 ])"
      ]
     },
     "execution_count": 74,
     "metadata": {},
     "output_type": "execute_result"
    }
   ],
   "source": [
    "prediction2 = model.predict(X_test)\n",
    "prediction2"
   ]
  },
  {
   "cell_type": "code",
   "execution_count": 75,
   "metadata": {},
   "outputs": [
    {
     "data": {
      "text/html": [
       "<div>\n",
       "<style scoped>\n",
       "    .dataframe tbody tr th:only-of-type {\n",
       "        vertical-align: middle;\n",
       "    }\n",
       "\n",
       "    .dataframe tbody tr th {\n",
       "        vertical-align: top;\n",
       "    }\n",
       "\n",
       "    .dataframe thead th {\n",
       "        text-align: right;\n",
       "    }\n",
       "</style>\n",
       "<table border=\"1\" class=\"dataframe\">\n",
       "  <thead>\n",
       "    <tr style=\"text-align: right;\">\n",
       "      <th></th>\n",
       "      <th>auto</th>\n",
       "      <th>groundtruth</th>\n",
       "    </tr>\n",
       "  </thead>\n",
       "  <tbody>\n",
       "    <tr>\n",
       "      <th>192</th>\n",
       "      <td>16952.571914</td>\n",
       "      <td>11302.902985</td>\n",
       "    </tr>\n",
       "    <tr>\n",
       "      <th>717</th>\n",
       "      <td>15855.979274</td>\n",
       "      <td>29114.544506</td>\n",
       "    </tr>\n",
       "    <tr>\n",
       "      <th>168</th>\n",
       "      <td>14966.801606</td>\n",
       "      <td>10777.052537</td>\n",
       "    </tr>\n",
       "    <tr>\n",
       "      <th>522</th>\n",
       "      <td>25589.624910</td>\n",
       "      <td>20677.593819</td>\n",
       "    </tr>\n",
       "    <tr>\n",
       "      <th>536</th>\n",
       "      <td>24137.121936</td>\n",
       "      <td>15253.868566</td>\n",
       "    </tr>\n",
       "    <tr>\n",
       "      <th>...</th>\n",
       "      <td>...</td>\n",
       "      <td>...</td>\n",
       "    </tr>\n",
       "    <tr>\n",
       "      <th>596</th>\n",
       "      <td>15561.231682</td>\n",
       "      <td>12465.508523</td>\n",
       "    </tr>\n",
       "    <tr>\n",
       "      <th>752</th>\n",
       "      <td>15996.548902</td>\n",
       "      <td>13991.040057</td>\n",
       "    </tr>\n",
       "    <tr>\n",
       "      <th>327</th>\n",
       "      <td>15972.472615</td>\n",
       "      <td>14191.882277</td>\n",
       "    </tr>\n",
       "    <tr>\n",
       "      <th>758</th>\n",
       "      <td>15216.537009</td>\n",
       "      <td>13811.155022</td>\n",
       "    </tr>\n",
       "    <tr>\n",
       "      <th>209</th>\n",
       "      <td>14654.856666</td>\n",
       "      <td>9220.829677</td>\n",
       "    </tr>\n",
       "  </tbody>\n",
       "</table>\n",
       "<p>81 rows × 2 columns</p>\n",
       "</div>"
      ],
      "text/plain": [
       "             auto   groundtruth\n",
       "192  16952.571914  11302.902985\n",
       "717  15855.979274  29114.544506\n",
       "168  14966.801606  10777.052537\n",
       "522  25589.624910  20677.593819\n",
       "536  24137.121936  15253.868566\n",
       "..            ...           ...\n",
       "596  15561.231682  12465.508523\n",
       "752  15996.548902  13991.040057\n",
       "327  15972.472615  14191.882277\n",
       "758  15216.537009  13811.155022\n",
       "209  14654.856666   9220.829677\n",
       "\n",
       "[81 rows x 2 columns]"
      ]
     },
     "execution_count": 75,
     "metadata": {},
     "output_type": "execute_result"
    }
   ],
   "source": [
    "pd.DataFrame({'auto': prediction2,\n",
    "             'groundtruth': y_test\n",
    "             })"
   ]
  },
  {
   "cell_type": "markdown",
   "metadata": {},
   "source": [
    "#### 10. Find the best combination of factors to predict price with linear regression classifier.\n",
    "\n",
    "E.g:\n",
    "- Use mileage to find the linear regression equation.\n",
    "- Use mileage, cylinders, liters, doors, cruise, sound, and leather to find the linear regression equation."
   ]
  },
  {
   "cell_type": "code",
   "execution_count": 76,
   "metadata": {},
   "outputs": [],
   "source": [
    "from sklearn.linear_model import LinearRegression"
   ]
  },
  {
   "cell_type": "markdown",
   "metadata": {},
   "source": [
    "#### --> Use mileage to find the linear regression equation."
   ]
  },
  {
   "cell_type": "code",
   "execution_count": 77,
   "metadata": {},
   "outputs": [
    {
     "data": {
      "text/plain": [
       "LinearRegression()"
      ]
     },
     "execution_count": 77,
     "metadata": {},
     "output_type": "execute_result"
    }
   ],
   "source": [
    "model = LinearRegression()\n",
    "model.fit(df[['Mileage']], df['Price'])         # fit(feature, label)"
   ]
  },
  {
   "cell_type": "code",
   "execution_count": 78,
   "metadata": {},
   "outputs": [
    {
     "data": {
      "text/plain": [
       "array([23346.26795261, 23188.58421306, 22487.97845123, 21945.22894945,\n",
       "       21343.13239471, 20928.393106  , 20869.73613505, 20802.79817996,\n",
       "       20620.44400851, 20050.43626729, 22998.46661899, 22165.36511101,\n",
       "       21895.02548313, 21348.65305079, 20734.65258136, 20664.60925723,\n",
       "       20622.68677505, 20273.16023639, 19089.32454624, 18784.1357768 ,\n",
       "       23217.05009602, 22939.80964804, 22286.64702447, 21916.59054598,\n",
       "       21502.54133928, 21406.10237822, 21073.65536935, 20866.28572499,\n",
       "       20543.15482326, 20409.2789131 , 22046.49848459, 21963.68864325,\n",
       "       21633.82944191, 20951.51085337, 20691.00489415, 20548.33043835,\n",
       "       20414.97208969, 20144.63246181, 20089.94346243, 19649.4986188 ,\n",
       "       24248.37766171, 23033.14324005, 21600.70550537, 21384.53731538,\n",
       "       21004.12960672, 20649.59997348, 20444.64561617, 20442.57537014,\n",
       "       20371.49692299, 19963.31341338, 21770.81072113, 21695.93682291,\n",
       "       21389.71293046, 21290.51364135, 21286.8907108 , 20664.26421622,\n",
       "       20568.34281667, 19961.76072886, 19729.20309109, 19360.52677663,\n",
       "       24366.38168562, 23036.93869111, 21502.19629828, 21296.03429744,\n",
       "       21235.99716247, 20919.59456035, 20755.7000827 , 20658.91608064,\n",
       "       20367.18391042, 20354.24487271, 23954.57524546, 23074.72068122,\n",
       "       22685.34190642, 22513.16644464, 21773.91609018, 21748.90061727,\n",
       "       20619.4088855 , 20384.7810017 , 20301.62611935, 18359.21777843,\n",
       "       24384.66885892, 23611.2594449 , 22117.57693174, 21082.79895599,\n",
       "       21078.31342292, 20732.58233533, 20667.02454427, 20615.09587293,\n",
       "       20417.21485622, 19574.7972411 , 23626.26872865, 22931.5286639 ,\n",
       "       22864.59070882, 22187.62025587, 21815.49353135, 21681.61762118,\n",
       "       21581.72825007, 21134.90014784, 21131.96729929, 20023.00550735,\n",
       "       22332.88251922, 22221.08923341, 21997.15762079, 21807.90262923,\n",
       "       21545.15390347, 20974.97364175, 20552.47093041, 20423.42559433,\n",
       "       20393.06198583, 20378.91530461, 23815.86876121, 23362.82992088,\n",
       "       22557.84925486, 22271.29269972, 21039.32378929, 20932.70611857,\n",
       "       20425.15079935, 20235.89580779, 18541.05438837, 17548.19889481,\n",
       "       23652.31932457, 22943.6050991 , 22698.62598514, 22444.33076402,\n",
       "       21744.07004319, 21545.15390347, 21157.1552927 , 20775.19489952,\n",
       "       20240.72638187, 20012.65427718, 24273.56565512, 23474.79572719,\n",
       "       22353.93002056, 21874.1505023 , 21469.41740275, 21007.40749627,\n",
       "       20961.86208354, 20786.92629371, 20314.22011606, 18670.09972446,\n",
       "       24628.61284986, 24313.24537076, 22378.77297296, 22158.8093319 ,\n",
       "       21558.9555437 , 21214.94966113, 20648.04728896, 20327.84923578,\n",
       "       19364.14970719, 19315.15388439, 24663.97955293, 23656.97737814,\n",
       "       23403.02719803, 22690.69004201, 22073.23916252, 21624.68585526,\n",
       "       20763.29098482, 19716.60909439, 19277.54441479, 17399.4862214 ,\n",
       "       23037.45625262, 22676.88840178, 21366.07762158, 21296.89689996,\n",
       "       21256.5271023 , 20930.29083153, 20885.6080213 , 20526.07529349,\n",
       "       19950.20185517, 19644.15048322, 24138.48210143, 24049.9790835 ,\n",
       "       22839.92027692, 22697.59086212, 22452.09418665, 22133.10377699,\n",
       "       21323.63757789, 20630.45019767, 19425.39448568, 18321.78082932,\n",
       "       21287.2357518 , 21282.06013672, 21068.99731577, 21067.96219275,\n",
       "       20776.05750203, 20775.71246103, 20433.08674248, 20369.42667695,\n",
       "       20322.8461412 , 19579.28277417, 23508.95478675, 23002.60711105,\n",
       "       22241.10161173, 21484.25416599, 21139.38568091, 20903.55015359,\n",
       "       20440.3326036 , 20301.62611935, 19972.62952053, 18791.72667893,\n",
       "       24718.66855232, 23950.9523149 , 23608.84415786, 22314.76786643,\n",
       "       22259.38878503, 21914.34777945, 21169.9218099 , 20939.95197968,\n",
       "       20799.0027289 , 19590.32408635, 23541.21612077, 22273.70798676,\n",
       "       21455.09820102, 21439.57135577, 21389.19536895, 20478.80467572,\n",
       "       20414.28200768, 20246.07451746, 19086.21917719, 18674.75777803,\n",
       "       23492.73785948, 22417.07252458, 21463.20666465, 21363.83485504,\n",
       "       20899.23714102, 20778.81783008, 20708.25694443, 20043.70796768,\n",
       "       19341.20448032, 18821.74524641, 24564.43522282, 23003.12467256,\n",
       "       21703.87276604, 21426.80483856, 21381.08690532, 20870.59873756,\n",
       "       20836.094637  , 20526.07529349, 20310.769706  , 19537.705333  ,\n",
       "       24339.46848718, 22811.28187346, 22782.64347   , 22240.58405023,\n",
       "       21502.19629828, 20443.26545215, 20439.64252159, 20302.83376287,\n",
       "       18406.31587569, 17873.05500156, 23961.99362708, 23869.35011708,\n",
       "       23690.79139669, 22309.41973084, 21664.1930504 , 21363.31729353,\n",
       "       21331.74604152, 21196.48996733, 21075.03553337, 19863.59656277,\n",
       "       23310.72872904, 23278.29487452, 21838.95631973, 21652.28913571,\n",
       "       21567.23652783, 21527.03925068, 21306.73056862, 21225.81845281,\n",
       "       21023.62442354, 20009.89394913, 23915.41309132, 22295.61809062,\n",
       "       21345.89272275, 21056.74836007, 21051.05518348, 20595.94609712,\n",
       "       20449.13114924, 20326.12403075, 19690.73101897, 18059.37714458,\n",
       "       23437.01373708, 22641.69421922, 21772.53592615, 21754.93883487,\n",
       "       21260.84011487, 21222.71308376, 21116.61297454, 20784.68352717,\n",
       "       19382.09183948, 18456.174301  , 22387.91655961, 21407.13750124,\n",
       "       21004.30212722, 20984.63478991, 20903.20511259, 20886.47062382,\n",
       "       20762.0833413 , 20038.5323526 , 20016.62224874, 19849.10484053,\n",
       "       24562.8825383 , 23721.15500518, 22044.25571805, 21249.62628219,\n",
       "       20305.76661142, 20254.35550159, 20063.5478255 , 19943.99111707,\n",
       "       19607.74865713, 19098.29561239, 23232.57694128, 22525.24287983,\n",
       "       22378.94549346, 22262.32163358, 21522.89875861, 21119.54582309,\n",
       "       21036.21842024, 20667.54210578, 20032.14909399, 18758.25770138,\n",
       "       24615.32877115, 23059.71139748, 22207.11507268, 21804.45221917,\n",
       "       21622.96065023, 21502.19629828, 21345.54768174, 21110.40223644,\n",
       "       21050.71014247, 21033.4580922 , 23709.768652  , 23607.11895284,\n",
       "       23537.0756287 , 23115.09047887, 22136.55418704, 21785.12992286,\n",
       "       21729.23327995, 20841.44277259, 20243.83175092, 19816.1534245 ,\n",
       "       24139.17218344, 23860.72409194, 22674.47311475, 22255.07577246,\n",
       "       21314.14895024, 20654.08550656, 20422.39047131, 20285.9267536 ,\n",
       "       19502.33862992, 19237.17461713, 23547.59937937, 23217.56765753,\n",
       "       23141.1410748 , 22915.65677765, 22760.04328413, 21081.24627147,\n",
       "       20841.44277259, 20579.38412885, 20322.6736207 , 18865.91049513,\n",
       "       24444.87851439, 22329.43210916, 21625.03089627, 21522.0361561 ,\n",
       "       21335.88653359, 21053.29795002, 20373.39464852, 20109.95584075,\n",
       "       19697.97688009, 19689.00581394, 24456.26486757, 23347.99315764,\n",
       "       22339.95585983, 21400.75424264, 21043.80932236, 20903.03259209,\n",
       "       20266.94949829, 20027.14599941, 19381.57427797, 19009.79259445,\n",
       "       24654.83596629, 23836.57122155, 22269.7400152 , 21985.08118559,\n",
       "       20802.79817996, 20232.10035673, 20040.25755763, 19944.33615807,\n",
       "       19892.23496623, 18917.49412546, 23740.47730149, 23265.87339831,\n",
       "       21828.26004855, 21420.07653895, 21359.00428096, 20998.60895063,\n",
       "       20717.22801058, 20523.48748594, 20187.245026  , 18915.07883842,\n",
       "       24509.22866193, 23391.12328334, 22151.90851179, 21069.68739778,\n",
       "       21025.17710806, 20689.45220963, 20331.29964583, 20024.38567137,\n",
       "       19164.19844445, 19151.60444775, 23624.54352362, 22143.97256866,\n",
       "       21946.43659297, 21755.62891688, 21581.38320906, 21526.17664817,\n",
       "       21402.13440666, 20544.53498728, 20467.93588405, 20300.76351684,\n",
       "       24603.76989746, 21611.40177655, 21384.36479487, 21334.33384906,\n",
       "       21069.16983627, 20773.64221499, 20586.45746946, 20383.57335818,\n",
       "       20222.43920857, 19892.75252774, 23792.92353434, 23488.42484691,\n",
       "       23445.63976222, 22219.19150788, 21747.52045325, 21534.80267331,\n",
       "       21279.64484968, 21063.64918018, 20824.01820181, 20815.73721767,\n",
       "       23258.10997569, 22799.03291776, 22249.38259587, 22020.96545017,\n",
       "       21753.90371185, 21562.23343325, 21287.58079281, 21094.70287069,\n",
       "       20315.77280058, 20286.61683561, 23759.2820363 , 23324.87541027,\n",
       "       22967.93048999, 22755.21271005, 22021.82805269, 21555.33261314,\n",
       "       20711.87987499, 20290.92984818, 20158.26158154, 19011.86284049,\n",
       "       23545.70165384, 22442.9506    , 22213.32581078, 21840.33648375,\n",
       "       21773.57104917, 21655.56702526, 20942.88482823, 20843.34049812,\n",
       "       20068.89596109, 18027.80589257, 22613.91841827, 22185.72253034,\n",
       "       20970.48810868, 20861.11010991, 20612.50806538, 20509.34080472,\n",
       "       20448.09602622, 20410.14151561, 20356.66015975, 20240.55386137,\n",
       "       22712.94518687, 21784.61236135, 21461.13641861, 21396.78627107,\n",
       "       21232.71927292, 20981.35690035, 20339.23558896, 20314.56515706,\n",
       "       20077.52198623, 19382.43688048, 22771.25711681, 21918.66079202,\n",
       "       21731.13100548, 21586.90386515, 21226.16349381, 21120.75346661,\n",
       "       20896.13177197, 20495.19412349, 20007.4786621 , 19867.56453433,\n",
       "       24368.62445216, 23789.30060378, 23224.29595714, 22854.92956067,\n",
       "       22087.73088475, 21414.38336236, 20815.39217667, 20235.55076679,\n",
       "       20093.22135198, 19939.850625  , 23981.8334849 , 23782.91734518,\n",
       "       23203.4209763 , 22828.70644424, 22640.31405519, 21181.30816309,\n",
       "       20860.7650689 , 20196.73365366, 19872.91266992, 19578.07513065,\n",
       "       23507.40210222, 22981.04204821, 22831.63929279, 21393.68090202,\n",
       "       21164.05611281, 21020.51905449, 20362.52585684, 19519.2456392 ,\n",
       "       18618.68861463, 17593.57178704, 24612.5684431 , 23879.35630624,\n",
       "       23598.14788669, 23146.31668988, 22682.06401687, 21604.84599744,\n",
       "       21155.94764918, 20897.6844565 , 20858.52230237, 20738.79307343,\n",
       "       24083.79310205, 24042.04314037, 24019.61547501, 23841.57431613,\n",
       "       23766.01033591, 22621.85436139, 22476.59209804, 21382.81211035,\n",
       "       20628.20743114, 20530.56082656, 21908.65460286, 21534.97519381,\n",
       "       21171.12945342, 21089.1822146 , 20400.65288796, 20317.49800561,\n",
       "       20308.35441896, 20190.86795656, 19601.88296003, 19335.16626272,\n",
       "       22827.32628022, 22640.14153469, 22561.12714441, 21759.76940895,\n",
       "       21118.85574108, 21105.22662136, 20452.9266003 , 20355.45251623,\n",
       "       20274.19535941, 19982.11814819, 24489.90636562, 24386.91162545,\n",
       "       21666.26329643, 21184.58605264, 20973.59347773, 20859.21238438,\n",
       "       20625.9646646 , 20348.37917561, 19968.48902846, 19705.39526171,\n",
       "       23179.95818792, 22881.4977181 , 22404.82356888, 21970.93450436,\n",
       "       21069.51487728, 20643.73427639, 20458.44725639, 20257.28835014,\n",
       "       20072.17385064, 18471.01106424, 22496.77699687, 21688.51844129,\n",
       "       21472.6952923 , 21447.8523399 , 21207.53127951, 20987.91267946,\n",
       "       20635.97085376, 20569.20541918, 20402.37809298, 20262.29144472,\n",
       "       21642.62798755, 21591.73443923, 21406.44741923, 21395.06106605,\n",
       "       21332.43612353, 20834.71447298, 20785.89117069, 20582.8345389 ,\n",
       "       19953.47974472, 19006.85974591, 22642.03926022, 21990.77436218,\n",
       "       21822.56687196, 21623.65073224, 21088.66465309, 21074.17293085,\n",
       "       21062.09649566, 20030.94145048, 19343.27472635, 19279.95970183,\n",
       "       24251.65555126, 23994.6000021 , 23254.31452463, 23185.99640552,\n",
       "       22589.07546586, 22296.82573414, 21022.93434153, 20759.15049276,\n",
       "       20740.86331946, 20577.48640332, 22980.6970072 , 22651.01032637,\n",
       "       21709.04838113, 21467.34715672, 21154.56748515, 21105.74418286,\n",
       "       21027.5923951 , 20701.18360382, 20527.62797801, 18699.25568943,\n",
       "       24090.52140166, 21992.49956721, 21885.53685548, 21388.50528694,\n",
       "       21095.7379937 , 21066.92706974, 20219.50636003, 19990.22661182,\n",
       "       19988.15636578, 16071.76843192, 24104.15052138, 21765.98014705,\n",
       "       21729.92336196, 21498.74588822, 20886.47062382, 20687.03692259,\n",
       "       20443.09293164, 20010.23899014, 19303.4224902 , 19161.61063691,\n",
       "       23038.83641664, 23036.93869111, 22300.7937057 , 21776.67641822,\n",
       "       21278.26468566, 21114.025167  , 20922.18236789, 20828.67625538,\n",
       "       20103.91762316, 20002.99312902, 22678.78612732, 22493.84414832,\n",
       "       21989.04915716, 21625.54845777, 21112.81752348, 21091.07994013,\n",
       "       20618.71880349, 20379.08782511, 20097.70688506, 16312.60705382,\n",
       "       24097.42222177, 23877.1135397 , 22901.33757592, 22819.7353781 ,\n",
       "       22251.2803214 , 20936.50156963, 20912.52121974, 20865.94068399,\n",
       "       20210.01773237, 18868.67082317, 24475.41464338, 23397.50654194,\n",
       "       23074.72068122, 22161.74218045, 20960.13687851, 20771.91700996,\n",
       "       20408.93387209, 20231.41027472, 19830.81766724, 18085.08269949,\n",
       "       21839.30136073, 21836.02347118, 21311.56114269, 21296.37933845,\n",
       "       20950.99329186, 20917.69683482, 20723.09370767, 20385.98864522,\n",
       "       20192.24812059, 19283.06507088, 23658.87510367, 22301.31126721,\n",
       "       22168.12543905, 21965.41384827, 21777.02145923, 21626.9286218 ,\n",
       "       21520.31095107, 20976.00876477, 18457.72698552, 17739.6966529 ,\n",
       "       23381.46213518, 22243.51689877, 21339.33694364, 20965.4850141 ,\n",
       "       20867.32084801, 20817.1173817 , 20787.09881421, 20761.39325929,\n",
       "       20496.74680801, 19357.07636657, 21715.60416023, 21579.14044252,\n",
       "       21343.47743571, 21195.97240582, 21157.67285421, 21047.60477342,\n",
       "       20999.81659415, 20389.95661678, 20143.4248183 , 18852.45389591,\n",
       "       23930.24985456, 21757.35412191, 21035.35581773, 20413.93696667,\n",
       "       24267.87247853, 23296.92708882, 22943.6050991 , 22535.59411   ,\n",
       "       22284.40425793, 21840.16396325, 21718.53700878, 21408.17262426,\n",
       "       21138.17803739, 20925.11521644, 20685.31171756, 20563.8572836 ,\n",
       "       20282.30382304, 20273.16023639, 20238.31109483, 20143.07977729,\n",
       "       20108.92071774, 20066.65319455, 19570.31170802, 18043.50525832,\n",
       "       24464.89089271, 24351.88996339, 22722.60633502, 22623.23452542,\n",
       "       22542.83997112, 22466.93094989, 22187.44773537, 21976.11011945,\n",
       "       21807.73010872, 21614.8521866 , 21571.03197889, 21469.24488225,\n",
       "       21400.40920163, 21339.50946415, 21008.7876603 , 20990.3279665 ,\n",
       "       20838.33740354, 20826.60600935, 20729.64948678, 20612.16302438,\n",
       "       20509.51332522, 20496.40176701, 20222.43920857, 19882.57381807,\n",
       "       19865.3217678 , 19639.49242964, 19164.88852646, 19137.11272551,\n",
       "       18905.41769027, 18726.68644937, 23759.4545568 , 23426.66250692,\n",
       "       23021.75688686, 22869.2487624 , 22307.52200531, 21964.72376626,\n",
       "       21470.28000526, 21230.64902689, 20282.64886405, 18612.13283552])"
      ]
     },
     "execution_count": 78,
     "metadata": {},
     "output_type": "execute_result"
    }
   ],
   "source": [
    "prediction = model.predict(df[['Mileage']])\n",
    "prediction"
   ]
  },
  {
   "cell_type": "code",
   "execution_count": 79,
   "metadata": {},
   "outputs": [
    {
     "data": {
      "text/plain": [
       "0      23346.267953\n",
       "1      23188.584213\n",
       "2      22487.978451\n",
       "3      21945.228949\n",
       "4      21343.132395\n",
       "           ...     \n",
       "799    21964.723766\n",
       "800    21470.280005\n",
       "801    21230.649027\n",
       "802    20282.648864\n",
       "803    18612.132836\n",
       "Length: 804, dtype: float64"
      ]
     },
     "execution_count": 79,
     "metadata": {},
     "output_type": "execute_result"
    }
   ],
   "source": [
    "## Series:\n",
    "pd.Series(prediction)"
   ]
  },
  {
   "cell_type": "code",
   "execution_count": 80,
   "metadata": {},
   "outputs": [
    {
     "data": {
      "text/html": [
       "<div>\n",
       "<style scoped>\n",
       "    .dataframe tbody tr th:only-of-type {\n",
       "        vertical-align: middle;\n",
       "    }\n",
       "\n",
       "    .dataframe tbody tr th {\n",
       "        vertical-align: top;\n",
       "    }\n",
       "\n",
       "    .dataframe thead th {\n",
       "        text-align: right;\n",
       "    }\n",
       "</style>\n",
       "<table border=\"1\" class=\"dataframe\">\n",
       "  <thead>\n",
       "    <tr style=\"text-align: right;\">\n",
       "      <th></th>\n",
       "      <th>Result</th>\n",
       "    </tr>\n",
       "  </thead>\n",
       "  <tbody>\n",
       "    <tr>\n",
       "      <th>0</th>\n",
       "      <td>23346.267953</td>\n",
       "    </tr>\n",
       "    <tr>\n",
       "      <th>1</th>\n",
       "      <td>23188.584213</td>\n",
       "    </tr>\n",
       "    <tr>\n",
       "      <th>2</th>\n",
       "      <td>22487.978451</td>\n",
       "    </tr>\n",
       "    <tr>\n",
       "      <th>3</th>\n",
       "      <td>21945.228949</td>\n",
       "    </tr>\n",
       "    <tr>\n",
       "      <th>4</th>\n",
       "      <td>21343.132395</td>\n",
       "    </tr>\n",
       "    <tr>\n",
       "      <th>...</th>\n",
       "      <td>...</td>\n",
       "    </tr>\n",
       "    <tr>\n",
       "      <th>799</th>\n",
       "      <td>21964.723766</td>\n",
       "    </tr>\n",
       "    <tr>\n",
       "      <th>800</th>\n",
       "      <td>21470.280005</td>\n",
       "    </tr>\n",
       "    <tr>\n",
       "      <th>801</th>\n",
       "      <td>21230.649027</td>\n",
       "    </tr>\n",
       "    <tr>\n",
       "      <th>802</th>\n",
       "      <td>20282.648864</td>\n",
       "    </tr>\n",
       "    <tr>\n",
       "      <th>803</th>\n",
       "      <td>18612.132836</td>\n",
       "    </tr>\n",
       "  </tbody>\n",
       "</table>\n",
       "<p>804 rows × 1 columns</p>\n",
       "</div>"
      ],
      "text/plain": [
       "           Result\n",
       "0    23346.267953\n",
       "1    23188.584213\n",
       "2    22487.978451\n",
       "3    21945.228949\n",
       "4    21343.132395\n",
       "..            ...\n",
       "799  21964.723766\n",
       "800  21470.280005\n",
       "801  21230.649027\n",
       "802  20282.648864\n",
       "803  18612.132836\n",
       "\n",
       "[804 rows x 1 columns]"
      ]
     },
     "execution_count": 80,
     "metadata": {},
     "output_type": "execute_result"
    }
   ],
   "source": [
    "## DataFrame:\n",
    "pd.DataFrame({'Result': prediction,\n",
    "             })"
   ]
  },
  {
   "cell_type": "markdown",
   "metadata": {},
   "source": [
    "#### --> Use mileage, cylinders, liters, doors, cruise, sound, and leather to find the linear regression equation."
   ]
  },
  {
   "cell_type": "code",
   "execution_count": 82,
   "metadata": {},
   "outputs": [
    {
     "data": {
      "text/plain": [
       "LinearRegression()"
      ]
     },
     "execution_count": 82,
     "metadata": {},
     "output_type": "execute_result"
    }
   ],
   "source": [
    "model_3 = LinearRegression()\n",
    "model_3.fit(df[['Mileage','Cylinder','Liter','Doors','Cruise','Sound','Leather']], df['Price'])         # fit(feature, label)"
   ]
  },
  {
   "cell_type": "code",
   "execution_count": 83,
   "metadata": {},
   "outputs": [
    {
     "data": {
      "text/plain": [
       "array([27150.72763886, 23646.21650049, 22956.87055338, 24416.63914856,\n",
       "       27173.58083333, 21422.35014909, 21364.6358861 , 21298.77372716,\n",
       "       26462.50716369, 23907.86504996, 25059.33929914, 22245.83174111,\n",
       "       21979.83688784, 24791.60712245, 24187.47458718, 20769.19534764,\n",
       "       22721.74190008, 23733.39913569, 19219.22789061, 22268.30559482,\n",
       "       23280.61452701, 26357.19138006, 25714.52608685, 27344.21226219,\n",
       "       23587.45584498, 26841.92842632, 23165.4627338 , 22961.42583934,\n",
       "       23999.05449329, 22511.76383149, 21971.4313383 , 21889.95237878,\n",
       "       24914.75614297, 26237.1987418 , 25980.87951497, 22491.13643802,\n",
       "       23715.48770754, 20100.13123466, 22040.11644751, 22962.31657548,\n",
       "       29481.07981768, 26291.58081103, 21532.80293955, 23313.90418134,\n",
       "       26288.97183066, 20596.9831399 , 20395.32271509, 20393.2857411 ,\n",
       "       20323.34963418, 23271.08788249, 23693.96957793, 21626.503743  ,\n",
       "       24674.56296022, 21227.59633702, 21224.03163254, 25954.56860096,\n",
       "       20517.03191087, 19920.19853239, 23040.74007402, 22677.98895632,\n",
       "       24254.03043968, 22945.95364372, 26779.0338226 , 23226.82354335,\n",
       "       21173.956022  , 24212.00011712, 20701.37805679, 25949.30641816,\n",
       "       23668.46755798, 23655.73647056, 23848.8423639 , 22983.12841901,\n",
       "       22600.00756143, 22430.59922476, 27046.38665853, 21678.61632753,\n",
       "       25910.43416455, 25679.57711258, 22248.39703778, 21692.77253746,\n",
       "       33710.42380098, 34943.23954433, 31479.7675363 , 32455.41531366,\n",
       "       30457.20659432, 32110.82721403, 32046.32303774, 31995.22894021,\n",
       "       29806.73290082, 28977.85423554, 27662.39459022, 26978.82006942,\n",
       "       26912.95791047, 26246.8674164 , 25880.72134205, 25748.99702416,\n",
       "       25650.71302924, 27204.8614192 , 25208.18043035, 24117.04136411,\n",
       "       34551.35091154, 34441.35431619, 34221.02162982, 34034.80825775,\n",
       "       33776.28230911, 33215.26572325, 30805.75800617, 32672.58190328,\n",
       "       30648.91100909, 32628.78696254, 36010.50327828, 35564.74547057,\n",
       "       32778.90680921, 34490.7509354 , 33278.58166471, 33173.67750433,\n",
       "       32674.2793816 , 30494.27073384, 30820.4633047 , 27849.76925392,\n",
       "       35849.58233323, 33158.4629623 , 32917.42104039, 32667.21273553,\n",
       "       33972.00155979, 33776.28230911, 33394.51943419, 31024.90245771,\n",
       "       32492.81894884, 30274.6170388 , 29663.30714753, 26883.57940813,\n",
       "       25780.72774146, 27302.45429544, 26904.22588079, 26449.6411858 ,\n",
       "       24411.03248236, 24238.90818038, 23773.79911979, 22156.10227765,\n",
       "       36810.1853164 , 34506.0910032 , 32602.70855925, 34380.07534872,\n",
       "       33789.8621357 , 33451.38495803, 30899.79830528, 30584.74632847,\n",
       "       29636.53493706, 31582.12182837, 37936.68003909, 36945.86194177,\n",
       "       36695.99313257, 35995.10433287, 35387.57684095, 34946.23247688,\n",
       "       34098.68155004, 33068.82145128, 34630.60849369, 30788.93831521,\n",
       "       16147.75038071, 15792.97741114, 14503.23338107,  9092.00760499,\n",
       "       17335.07903778, 10725.08873698, 12036.69039232, 19965.72833529,\n",
       "        9760.7513015 , 12808.98026655, 11887.92415135, 11800.84351336,\n",
       "       13959.59383699, 20108.54902517, 16517.63624015, 18197.56777386,\n",
       "       11112.1137947 , 14725.26887854,  7250.58311984,  9514.06785602,\n",
       "       12431.863346  , 18715.76806088, 12217.13233809, 18505.11100095,\n",
       "       11928.90051879, 11928.56102313, 11591.44182812, 11528.80487798,\n",
       "       17771.9701131 , 17040.35695575, 13262.30958687, 16113.46131858,\n",
       "       10021.03749135, 12625.71537052, 18575.38660354,  8704.98254727,\n",
       "        8249.20961746, 10106.52763596, 16071.81566955,  6627.09933169,\n",
       "       24090.94015665, 17992.40540745, 14716.1599257 , 18376.31224131,\n",
       "       10039.03076158, 19337.89386638, 15256.07035025, 14083.95623521,\n",
       "       11951.47698049, 19045.01609272, 19583.04958136, 15396.27672697,\n",
       "       11241.46164294, 15521.38621218, 12532.18431491, 16569.85580962,\n",
       "       10217.37297048, 13401.23045356, 13205.85603133,  8505.80557706,\n",
       "       23504.07603818, 16156.70115373, 15218.16538876, 15120.39063734,\n",
       "       14663.25972486, 14544.77573789, 20764.34602432, 20110.47737417,\n",
       "       19419.26420091, 18908.15347776, 24558.54957263, 23022.33169001,\n",
       "       15454.96361486, 15182.34859614, 21426.36257042, 20924.07873455,\n",
       "       14601.13201823, 20585.09231338, 14084.24986878, 19612.60698194,\n",
       "       14962.70955665, 19748.0804077 , 19719.90226753, 12897.55742849,\n",
       "       18460.03385595, 17418.12166109, 17414.55695661, 10990.94977572,\n",
       "        9124.91185489, 14889.218455  , 23965.79014212, 17585.63840631,\n",
       "       17409.94939984, 22339.7756562 , 21704.91876328, 21408.87854369,\n",
       "       21377.81469037, 21244.73238982, 21125.22991586, 13644.26348737,\n",
       "       13950.50323245, 13918.59063997, 12502.38447482, 18607.71447008,\n",
       "       18524.02878874, 18484.47754381, 11978.71241207, 18188.09782856,\n",
       "       11700.15621921, 16991.71510627, 14545.46938478, 12951.706987  ,\n",
       "       18306.24231986, 18021.74495287, 11727.14612455, 11279.35134286,\n",
       "       17423.89308739, 17302.86288294, 16677.68161646, 15072.54611391,\n",
       "       14074.75864572, 19581.21828851, 12437.03155937, 12419.71728047,\n",
       "       18222.55663852, 11896.04521772, 18080.64745069, 17754.05262128,\n",
       "       16374.00274441,  9173.96897843, 16128.01377006, 21451.9944931 ,\n",
       "       21055.6333046 , 14747.28490187, 20956.16107486, 14650.69838527,\n",
       "       20817.30734801, 20105.3849392 , 20083.8269645 , 13630.00466945,\n",
       "       18268.02469229, 17439.82501833, 22078.87323791, 15008.01757233,\n",
       "       20368.32433149, 20317.73947745, 20129.99837489, 20012.36312708,\n",
       "       19681.52460187, 19180.25925299, 13873.6074644 , 13177.64135184,\n",
       "       19322.69233987, 12918.94565536, 12191.40644598, 11794.53601399,\n",
       "       18001.54496082, 11349.79669328, 10724.61542679,  9471.19743285,\n",
       "       21523.1334904 , 13703.52013641, 19153.62349887, 18757.4320582 ,\n",
       "       18578.85733859, 12171.0367061 , 12016.90567434, 18074.53652872,\n",
       "       11726.80662889, 11709.83184565, 20632.12711849, 20531.12715825,\n",
       "       20462.20953832, 13758.00919058, 12795.19948559, 12449.42315113,\n",
       "       12394.42485345, 17809.89965812, 10932.89601707, 10512.09114071,\n",
       "       36318.19810885, 36044.22510746, 36870.83428804, 34464.38203194,\n",
       "       35532.37263009, 32889.12214789, 32661.15080907, 34520.67554939,\n",
       "       31755.88561923, 31494.98320094, 37729.92806748, 35411.40518853,\n",
       "       35336.2068988 , 35114.34648194, 34961.23393718, 33309.41778075,\n",
       "       35067.2635695 , 34809.41661219, 34556.83183768, 33123.48114146,\n",
       "       26325.06097909, 22249.81778333, 26899.89427922, 24804.75954762,\n",
       "       21272.24001692, 20994.19306756, 25668.37375565, 20066.01192036,\n",
       "       19660.65409675, 23001.18882908, 26336.26433603, 28595.16588073,\n",
       "       25609.53402071, 23329.86047758, 26328.01383209, 24195.70432521,\n",
       "       23569.8440674 , 23333.89458046, 22698.69819187, 22332.89161319,\n",
       "       26531.64409104, 23732.73484659, 25540.44665295, 23904.79638569,\n",
       "       24097.08083463, 23535.55500527, 23346.79541571, 21896.84927702,\n",
       "       23201.15177557, 20886.51017898, 20934.71599323, 20467.73970648,\n",
       "       19053.23101965, 24940.6047982 , 24880.51406556, 18236.91369396,\n",
       "       17960.05497943, 17769.42816372, 23727.58678835, 16186.86912288,\n",
       "       27980.10948396, 20590.97663276, 25660.67510296, 18306.84980088,\n",
       "       24552.05200999, 17932.72557842, 23869.32622835, 17278.34768478,\n",
       "       16431.98499277, 16419.59340101, 27109.64259975, 19363.86955282,\n",
       "       19169.5082848 , 18981.76718224, 18810.32187158, 18756.00256524,\n",
       "       24922.95102364, 17790.13739926, 24003.76651156, 23839.28086203,\n",
       "       21784.13414623, 25128.85514426, 24905.46699691, 24856.24012553,\n",
       "       24595.33770724, 24304.55967045, 24120.38327237, 17631.7626717 ,\n",
       "       23762.21534615, 17148.83008871, 20986.31933426, 26975.71156004,\n",
       "       20644.61694778, 19437.87960772, 18973.78903412, 18764.48995685,\n",
       "       18513.43291283, 18300.90862675, 24354.12603749, 18056.98099169,\n",
       "       20460.10105403, 26297.39922204, 25756.58262823, 19242.83934837,\n",
       "       18980.06970392, 25080.47701205, 18521.24131312, 24620.46038642,\n",
       "       23854.04892344, 17536.36438993, 28735.97478617, 31657.91136396,\n",
       "       25963.54620356, 31097.4040216 , 27026.44436674, 26567.44622811,\n",
       "       23743.75380014, 23329.56908924, 23199.03300618, 24064.85393603,\n",
       "       26532.03169404, 25447.00354977, 28570.43080454, 26847.86964713,\n",
       "       28137.74357993, 30015.43133831, 27320.40776724, 25866.89692407,\n",
       "       23111.10362903, 26445.97392001, 25615.22365161, 25193.90953176,\n",
       "       23998.2058008 , 23890.5856751 , 25639.77432441, 23544.46984498,\n",
       "       26833.57098411, 26796.226461  , 26743.60463298, 26629.36434182,\n",
       "       34925.30538617, 34011.89230039, 33693.61511476, 31636.50389761,\n",
       "       31475.07370906, 31227.75111735, 32589.7449611 , 32565.47102108,\n",
       "       32332.23749945, 29654.52820729, 28027.69887724, 21845.64819454,\n",
       "       21661.1323008 , 24868.58473258, 26507.43729087, 21060.56447   ,\n",
       "       20839.5527923 , 23794.42044958, 21958.97698366, 23176.87783555,\n",
       "       27605.59878112, 25680.01921623, 28473.45668495, 28110.02657593,\n",
       "       25361.36268984, 21349.47528063, 24109.47242639, 25532.74523761,\n",
       "       20049.54638063, 25241.79745299, 24111.8287409 , 27265.47110984,\n",
       "       26695.28814103, 26326.5958492 , 28135.02649199, 24705.67379825,\n",
       "       21040.92070617, 25730.71819483, 22062.73989393, 25122.00246808,\n",
       "       26994.3838216 , 25120.91684124, 22980.11994274, 23559.06703594,\n",
       "       23333.13267111, 23191.9024746 , 25893.8458617 , 21714.75683764,\n",
       "       18834.87787717, 21175.59787706, 24957.0050516 , 24235.57676419,\n",
       "       30247.88494734, 23514.31822461, 29346.52395765, 21997.62134271,\n",
       "       27844.93463283, 21301.82497798, 27552.28936989, 21145.4872244 ,\n",
       "       21000.14041898, 20959.06144356, 14647.99707551, 14472.81731254,\n",
       "       20687.46491183, 13272.70013794, 13129.77246312, 12053.57120613,\n",
       "       11311.0941875 , 11215.0169144 , 25185.16443988, 23461.92429113,\n",
       "       23103.92611274, 21029.50061668, 20352.03701784, 22264.01383836,\n",
       "       25604.37882286, 25488.78054904, 19566.10455414, 19303.67440535,\n",
       "       22739.71002744, 22555.53362936, 22477.78912215, 25038.67206058,\n",
       "       24408.05886346, 26388.4440604 , 22397.26588674, 25650.71998108,\n",
       "       20227.61185674, 25283.38567192, 24375.56988763, 27623.59205134,\n",
       "       23591.10239154, 24472.73278758, 22909.56484472, 22797.02203188,\n",
       "       22567.52296257, 22294.39870035, 19926.81869785, 19667.95325354,\n",
       "       35610.56638057, 35316.90263063, 34847.8893699 , 36414.76884728,\n",
       "       35527.83642334, 35108.89877314, 32932.79432551, 32734.86835301,\n",
       "       32552.72892892, 30977.29929704, 16235.12465227, 21728.85320764,\n",
       "       21516.49866939, 21492.05498153, 21255.59625109, 21039.50726053,\n",
       "       14404.22453272, 20627.52927146, 14174.38596774, 14036.55072789,\n",
       "       15563.73526451, 12574.02412374, 17325.14575775, 18669.50874473,\n",
       "       17252.32393768, 13822.96591116, 10425.56565499, 16514.76960619,\n",
       "        9606.53236399, 10030.69235189, 19896.44607683,  9617.28924031,\n",
       "       14794.9419991 , 11249.8611288 , 10723.47310074, 12064.78062674,\n",
       "       10697.33193456, 13032.11076032,  9006.13428103, 16588.40032032,\n",
       "       13835.62985873, 23221.06435802, 10860.52236432, 12787.09749841,\n",
       "       19844.3334923 , 15261.57879018, 10658.79917662, 18043.81823475,\n",
       "       11736.82781467, 10220.51027354, 19808.34699852, 21477.75416663,\n",
       "       18557.1357264 , 21668.68063291, 23354.72308859, 17963.52755673,\n",
       "       23229.78868399, 17565.46888991, 19388.49784628, 17589.51031921,\n",
       "       23158.00000647, 17744.33499785, 17639.09134181, 15156.25256116,\n",
       "       14868.19048969, 18189.2042213 , 17355.40286888, 17129.80799971,\n",
       "       15772.20468181, 15268.12075963, 24263.10650229, 21962.51413068,\n",
       "       21927.03683372, 23693.3700141 , 19741.57333753, 19545.34484335,\n",
       "       19305.32140844, 22228.78571673, 19539.53357196, 19400.00085378,\n",
       "       16780.06032526, 22121.34999441, 19403.24071815, 20881.34207922,\n",
       "       20390.94059161, 18235.54537953, 18046.78578998, 17954.78246485,\n",
       "       15886.10547731, 13793.00771969, 22860.64991155, 24672.47551099,\n",
       "       24175.79335359, 18474.97777555, 17970.48721785, 23292.25588629,\n",
       "       22827.48632136, 19242.34496264, 22314.84786772, 16596.78515063,\n",
       "       17821.63302445, 17604.86504256, 16644.77130289, 16564.48057819,\n",
       "       19354.52309027, 16705.30851614, 14687.91829175, 19985.24327233,\n",
       "       13996.70511849, 12676.9157221 , 21306.74592522, 22239.9567445 ,\n",
       "       19928.56327451, 19030.2577458 , 17847.9640936 , 17662.76920852,\n",
       "       17305.61976929, 17130.94924982, 16736.79478315, 17012.91174347,\n",
       "       20706.79432287, 18709.77383835, 18193.74042806, 18178.80261882,\n",
       "       19832.76273418, 17806.20612685, 17614.73057197, 19276.83858329,\n",
       "       19086.21176758, 18191.64069119, 20503.32943478, 21161.37901785,\n",
       "       21030.33369129, 18837.0847126 , 20645.51535539, 18504.03946557,\n",
       "       18399.13530518, 19857.37616987, 15385.77178561, 14679.28130744,\n",
       "       22224.17019609, 21104.51349402, 18221.06982907, 17853.2262764 ,\n",
       "       17756.6397598 , 17707.24314059, 17677.70701777, 17652.41459075,\n",
       "       17392.02141595, 16270.66723556, 18591.28985139, 20450.81459171,\n",
       "       18225.14377704, 20073.8046561 , 20036.12063732, 19927.82152029,\n",
       "       17887.00609504, 19280.74278344, 19038.17313103, 15774.15482599,\n",
       "       17263.5370091 , 20468.71995618, 14415.16838256, 19146.8935858 ,\n",
       "       26260.54832455, 21955.84590456, 18668.56681371, 21206.74872048,\n",
       "       14670.59872675, 12239.70278279, 18409.02771085, 17157.81110594,\n",
       "       11548.99885303, 22971.51432526, 13097.20606885, 17272.90546904,\n",
       "       16995.87700668, 16041.04011702, 14012.9557792 , 15913.05025145,\n",
       "       22168.43733049, 10494.69506641, 19644.68932225, 10497.85751234,\n",
       "       17079.91150646, 17914.56693082, 12016.26652811, 15267.8533963 ,\n",
       "       18128.38643667, 15114.06186021, 19134.27224598, 14631.12927722,\n",
       "       20754.45254271, 12281.88204062, 12238.7660912 , 12138.61487013,\n",
       "       20353.67791057, 12010.96450021,  8336.19628602, 10311.82854366,\n",
       "       14457.48257752, 13500.09947039, 10055.339569  ,  7945.94601948,\n",
       "       11194.30767886, 14121.04237384, 12905.64256155,  7228.08243655,\n",
       "        9204.90292901, 10338.2693604 ,  8515.72672974, 18126.7560982 ,\n",
       "        8260.42598991,  9440.13357953, 27635.99577046, 27308.55220189,\n",
       "       28903.9493151 , 25404.5306117 , 24851.83166963, 24514.54272678,\n",
       "       22034.25016362, 21798.47042451, 20865.70608583, 21215.83310105])"
      ]
     },
     "execution_count": 83,
     "metadata": {},
     "output_type": "execute_result"
    }
   ],
   "source": [
    "prediction_3 = model_3.predict(df[['Mileage','Cylinder','Liter','Doors','Cruise','Sound','Leather']])\n",
    "prediction_3"
   ]
  },
  {
   "cell_type": "code",
   "execution_count": 84,
   "metadata": {},
   "outputs": [
    {
     "data": {
      "text/html": [
       "<div>\n",
       "<style scoped>\n",
       "    .dataframe tbody tr th:only-of-type {\n",
       "        vertical-align: middle;\n",
       "    }\n",
       "\n",
       "    .dataframe tbody tr th {\n",
       "        vertical-align: top;\n",
       "    }\n",
       "\n",
       "    .dataframe thead th {\n",
       "        text-align: right;\n",
       "    }\n",
       "</style>\n",
       "<table border=\"1\" class=\"dataframe\">\n",
       "  <thead>\n",
       "    <tr style=\"text-align: right;\">\n",
       "      <th></th>\n",
       "      <th>Result_3</th>\n",
       "    </tr>\n",
       "  </thead>\n",
       "  <tbody>\n",
       "    <tr>\n",
       "      <th>0</th>\n",
       "      <td>27150.727639</td>\n",
       "    </tr>\n",
       "    <tr>\n",
       "      <th>1</th>\n",
       "      <td>23646.216500</td>\n",
       "    </tr>\n",
       "    <tr>\n",
       "      <th>2</th>\n",
       "      <td>22956.870553</td>\n",
       "    </tr>\n",
       "    <tr>\n",
       "      <th>3</th>\n",
       "      <td>24416.639149</td>\n",
       "    </tr>\n",
       "    <tr>\n",
       "      <th>4</th>\n",
       "      <td>27173.580833</td>\n",
       "    </tr>\n",
       "    <tr>\n",
       "      <th>...</th>\n",
       "      <td>...</td>\n",
       "    </tr>\n",
       "    <tr>\n",
       "      <th>799</th>\n",
       "      <td>24514.542727</td>\n",
       "    </tr>\n",
       "    <tr>\n",
       "      <th>800</th>\n",
       "      <td>22034.250164</td>\n",
       "    </tr>\n",
       "    <tr>\n",
       "      <th>801</th>\n",
       "      <td>21798.470425</td>\n",
       "    </tr>\n",
       "    <tr>\n",
       "      <th>802</th>\n",
       "      <td>20865.706086</td>\n",
       "    </tr>\n",
       "    <tr>\n",
       "      <th>803</th>\n",
       "      <td>21215.833101</td>\n",
       "    </tr>\n",
       "  </tbody>\n",
       "</table>\n",
       "<p>804 rows × 1 columns</p>\n",
       "</div>"
      ],
      "text/plain": [
       "         Result_3\n",
       "0    27150.727639\n",
       "1    23646.216500\n",
       "2    22956.870553\n",
       "3    24416.639149\n",
       "4    27173.580833\n",
       "..            ...\n",
       "799  24514.542727\n",
       "800  22034.250164\n",
       "801  21798.470425\n",
       "802  20865.706086\n",
       "803  21215.833101\n",
       "\n",
       "[804 rows x 1 columns]"
      ]
     },
     "execution_count": 84,
     "metadata": {},
     "output_type": "execute_result"
    }
   ],
   "source": [
    "## DataFrame:\n",
    "pd.DataFrame({'Result_3': prediction_3,\n",
    "             })"
   ]
  },
  {
   "cell_type": "markdown",
   "metadata": {},
   "source": [
    "#### 11. Evaluate your model performance using R-squared Error."
   ]
  },
  {
   "cell_type": "code",
   "execution_count": 89,
   "metadata": {},
   "outputs": [],
   "source": [
    "from sklearn.metrics import mean_absolute_error, mean_squared_error, r2_score"
   ]
  },
  {
   "cell_type": "code",
   "execution_count": 92,
   "metadata": {},
   "outputs": [
    {
     "data": {
      "text/plain": [
       "0.2314711218692721"
      ]
     },
     "execution_count": 92,
     "metadata": {},
     "output_type": "execute_result"
    }
   ],
   "source": [
    "r2_score(y_test, prediction2)"
   ]
  },
  {
   "cell_type": "markdown",
   "metadata": {},
   "source": [
    "#### 12. Visualize the actual prices and predicted prices of the test set."
   ]
  },
  {
   "cell_type": "code",
   "execution_count": 94,
   "metadata": {},
   "outputs": [
    {
     "data": {
      "image/png": "[encoded data removed]",
      "text/plain": [
       "<Figure size 432x288 with 1 Axes>"
      ]
     },
     "metadata": {
      "needs_background": "light"
     },
     "output_type": "display_data"
    }
   ],
   "source": [
    "plt.scatter(X_test.Mileage, y_test, label='Actual/GroundTruth Prices')\n",
    "plt.scatter(X_test.Mileage, prediction2, label='Predicted Prices')\n",
    "plt.legend()                                                                       # để dán nhãn đồ thị\n",
    "plt.show()"
   ]
  }
 ],
 "metadata": {
  "kernelspec": {
   "display_name": "Python 3",
   "language": "python",
   "name": "python3"
  },
  "language_info": {
   "codemirror_mode": {
    "name": "ipython",
    "version": 3
   },
   "file_extension": ".py",
   "mimetype": "text/x-python",
   "name": "python",
   "nbconvert_exporter": "python",
   "pygments_lexer": "ipython3",
   "version": "3.8.3"
  }
 },
 "nbformat": 4,
 "nbformat_minor": 4
}
