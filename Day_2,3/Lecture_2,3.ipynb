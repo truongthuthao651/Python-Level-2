{
 "cells": [
  {
   "cell_type": "markdown",
   "metadata": {},
   "source": [
    "# <center>Simple Linear Regression</center>\n",
    "\n",
    "\n",
    "## About this Notebook\n",
    "In this notebook, we learn how to use `scikit-learn` to implement simple linear regression using dataset that is related to Fuel consumption and Carbon dioxide emission of cars. Then, we split our data into training and test sets, create a model using training set, evaluate your model using test set, and finally use model to predict unknown value.\n",
    "\n",
    "**`FuelConsumptionCo2.csv`** contains model-specific fuel consumption ratings and estimated carbon dioxide emissions for new light-duty vehicles for retail sale in Canada. [Dataset source](https://open.canada.ca/data/en/dataset/98f1a129-f628-4ce4-b24d-6f16bf24dd64)\n",
    "\n",
    "- **MODELYEAR** e.g. 2014\n",
    "- **MAKE** e.g. Acura\n",
    "- **MODEL** e.g. ILX\n",
    "- **VEHICLE CLASS** e.g. SUV\n",
    "- **ENGINE SIZE** e.g. 4.7\n",
    "- **CYLINDERS** e.g 6\n",
    "- **TRANSMISSION** e.g. A6\n",
    "- **FUEL CONSUMPTION in CITY(L/100 km)** e.g. 9.9\n",
    "- **FUEL CONSUMPTION in HWY (L/100 km)** e.g. 8.9\n",
    "- **FUEL CONSUMPTION COMB (L/100 km)** e.g. 9.2\n",
    "- **CO2 EMISSIONS (g/km)** e.g. 182   --> low --> 0\n",
    "\n",
    "\n",
    "- Supervised Learning:\n",
    "    - Classification\n",
    "    - **Regression**\n",
    "    \n",
    "## Practice"
   ]
  },
  {
   "cell_type": "markdown",
   "metadata": {},
   "source": [
    "### 1. Import libraries and load dataset"
   ]
  },
  {
   "cell_type": "code",
   "execution_count": 1,
   "metadata": {},
   "outputs": [],
   "source": [
    "# ![](chèn link ảnh)"
   ]
  },
  {
   "cell_type": "code",
   "execution_count": 2,
   "metadata": {},
   "outputs": [],
   "source": [
    "# !pip install pandas\n",
    "# !pip install -U seaborn"
   ]
  },
  {
   "cell_type": "code",
   "execution_count": 3,
   "metadata": {},
   "outputs": [
    {
     "name": "stdout",
     "output_type": "stream",
     "text": [
      "Requirement already up-to-date: seaborn in c:\\users\\hp\\anaconda3\\lib\\site-packages (0.11.2)\n",
      "Requirement already satisfied, skipping upgrade: numpy>=1.15 in c:\\users\\hp\\anaconda3\\lib\\site-packages (from seaborn) (1.18.5)\n",
      "Requirement already satisfied, skipping upgrade: matplotlib>=2.2 in c:\\users\\hp\\anaconda3\\lib\\site-packages (from seaborn) (3.2.2)\n",
      "Requirement already satisfied, skipping upgrade: pandas>=0.23 in c:\\users\\hp\\anaconda3\\lib\\site-packages (from seaborn) (1.0.5)\n",
      "Requirement already satisfied, skipping upgrade: scipy>=1.0 in c:\\users\\hp\\anaconda3\\lib\\site-packages (from seaborn) (1.5.0)\n",
      "Requirement already satisfied, skipping upgrade: python-dateutil>=2.1 in c:\\users\\hp\\anaconda3\\lib\\site-packages (from matplotlib>=2.2->seaborn) (2.8.1)\n",
      "Requirement already satisfied, skipping upgrade: kiwisolver>=1.0.1 in c:\\users\\hp\\anaconda3\\lib\\site-packages (from matplotlib>=2.2->seaborn) (1.2.0)\n",
      "Requirement already satisfied, skipping upgrade: cycler>=0.10 in c:\\users\\hp\\anaconda3\\lib\\site-packages (from matplotlib>=2.2->seaborn) (0.10.0)\n",
      "Requirement already satisfied, skipping upgrade: pyparsing!=2.0.4,!=2.1.2,!=2.1.6,>=2.0.1 in c:\\users\\hp\\anaconda3\\lib\\site-packages (from matplotlib>=2.2->seaborn) (2.4.7)\n",
      "Requirement already satisfied, skipping upgrade: pytz>=2017.2 in c:\\users\\hp\\anaconda3\\lib\\site-packages (from pandas>=0.23->seaborn) (2020.1)\n",
      "Requirement already satisfied, skipping upgrade: six>=1.5 in c:\\users\\hp\\anaconda3\\lib\\site-packages (from python-dateutil>=2.1->matplotlib>=2.2->seaborn) (1.15.0)\n"
     ]
    }
   ],
   "source": [
    "!pip install -U seaborn"
   ]
  },
  {
   "cell_type": "code",
   "execution_count": 52,
   "metadata": {},
   "outputs": [],
   "source": [
    "# Load datasets:\n",
    "import pandas as pd\n",
    "import numpy as np\n",
    "# Visualization:\n",
    "import matplotlib.pyplot as plt\n",
    "import seaborn as sns\n",
    "# Train models:\n",
    "# (below, it depends on which model we use to call models' name)"
   ]
  },
  {
   "cell_type": "markdown",
   "metadata": {},
   "source": [
    "### 2. Sanity check"
   ]
  },
  {
   "cell_type": "code",
   "execution_count": 5,
   "metadata": {},
   "outputs": [
    {
     "data": {
      "text/html": [
       "<div>\n",
       "<style scoped>\n",
       "    .dataframe tbody tr th:only-of-type {\n",
       "        vertical-align: middle;\n",
       "    }\n",
       "\n",
       "    .dataframe tbody tr th {\n",
       "        vertical-align: top;\n",
       "    }\n",
       "\n",
       "    .dataframe thead th {\n",
       "        text-align: right;\n",
       "    }\n",
       "</style>\n",
       "<table border=\"1\" class=\"dataframe\">\n",
       "  <thead>\n",
       "    <tr style=\"text-align: right;\">\n",
       "      <th></th>\n",
       "      <th>MODELYEAR</th>\n",
       "      <th>MAKE</th>\n",
       "      <th>MODEL</th>\n",
       "      <th>VEHICLECLASS</th>\n",
       "      <th>ENGINESIZE</th>\n",
       "      <th>CYLINDERS</th>\n",
       "      <th>TRANSMISSION</th>\n",
       "      <th>FUELTYPE</th>\n",
       "      <th>FUELCONSUMPTION_CITY</th>\n",
       "      <th>FUELCONSUMPTION_HWY</th>\n",
       "      <th>FUELCONSUMPTION_COMB</th>\n",
       "      <th>FUELCONSUMPTION_COMB_MPG</th>\n",
       "      <th>CO2EMISSIONS</th>\n",
       "    </tr>\n",
       "  </thead>\n",
       "  <tbody>\n",
       "    <tr>\n",
       "      <th>0</th>\n",
       "      <td>2014</td>\n",
       "      <td>ACURA</td>\n",
       "      <td>ILX</td>\n",
       "      <td>COMPACT</td>\n",
       "      <td>2.0</td>\n",
       "      <td>4</td>\n",
       "      <td>AS5</td>\n",
       "      <td>Z</td>\n",
       "      <td>9.9</td>\n",
       "      <td>6.7</td>\n",
       "      <td>8.5</td>\n",
       "      <td>33</td>\n",
       "      <td>196</td>\n",
       "    </tr>\n",
       "    <tr>\n",
       "      <th>1</th>\n",
       "      <td>2014</td>\n",
       "      <td>ACURA</td>\n",
       "      <td>ILX</td>\n",
       "      <td>COMPACT</td>\n",
       "      <td>2.4</td>\n",
       "      <td>4</td>\n",
       "      <td>M6</td>\n",
       "      <td>Z</td>\n",
       "      <td>11.2</td>\n",
       "      <td>7.7</td>\n",
       "      <td>9.6</td>\n",
       "      <td>29</td>\n",
       "      <td>221</td>\n",
       "    </tr>\n",
       "    <tr>\n",
       "      <th>2</th>\n",
       "      <td>2014</td>\n",
       "      <td>ACURA</td>\n",
       "      <td>ILX HYBRID</td>\n",
       "      <td>COMPACT</td>\n",
       "      <td>1.5</td>\n",
       "      <td>4</td>\n",
       "      <td>AV7</td>\n",
       "      <td>Z</td>\n",
       "      <td>6.0</td>\n",
       "      <td>5.8</td>\n",
       "      <td>5.9</td>\n",
       "      <td>48</td>\n",
       "      <td>136</td>\n",
       "    </tr>\n",
       "    <tr>\n",
       "      <th>3</th>\n",
       "      <td>2014</td>\n",
       "      <td>ACURA</td>\n",
       "      <td>MDX 4WD</td>\n",
       "      <td>SUV - SMALL</td>\n",
       "      <td>3.5</td>\n",
       "      <td>6</td>\n",
       "      <td>AS6</td>\n",
       "      <td>Z</td>\n",
       "      <td>12.7</td>\n",
       "      <td>9.1</td>\n",
       "      <td>11.1</td>\n",
       "      <td>25</td>\n",
       "      <td>255</td>\n",
       "    </tr>\n",
       "    <tr>\n",
       "      <th>4</th>\n",
       "      <td>2014</td>\n",
       "      <td>ACURA</td>\n",
       "      <td>RDX AWD</td>\n",
       "      <td>SUV - SMALL</td>\n",
       "      <td>3.5</td>\n",
       "      <td>6</td>\n",
       "      <td>AS6</td>\n",
       "      <td>Z</td>\n",
       "      <td>12.1</td>\n",
       "      <td>8.7</td>\n",
       "      <td>10.6</td>\n",
       "      <td>27</td>\n",
       "      <td>244</td>\n",
       "    </tr>\n",
       "  </tbody>\n",
       "</table>\n",
       "</div>"
      ],
      "text/plain": [
       "   MODELYEAR   MAKE       MODEL VEHICLECLASS  ENGINESIZE  CYLINDERS  \\\n",
       "0       2014  ACURA         ILX      COMPACT         2.0          4   \n",
       "1       2014  ACURA         ILX      COMPACT         2.4          4   \n",
       "2       2014  ACURA  ILX HYBRID      COMPACT         1.5          4   \n",
       "3       2014  ACURA     MDX 4WD  SUV - SMALL         3.5          6   \n",
       "4       2014  ACURA     RDX AWD  SUV - SMALL         3.5          6   \n",
       "\n",
       "  TRANSMISSION FUELTYPE  FUELCONSUMPTION_CITY  FUELCONSUMPTION_HWY  \\\n",
       "0          AS5        Z                   9.9                  6.7   \n",
       "1           M6        Z                  11.2                  7.7   \n",
       "2          AV7        Z                   6.0                  5.8   \n",
       "3          AS6        Z                  12.7                  9.1   \n",
       "4          AS6        Z                  12.1                  8.7   \n",
       "\n",
       "   FUELCONSUMPTION_COMB  FUELCONSUMPTION_COMB_MPG  CO2EMISSIONS  \n",
       "0                   8.5                        33           196  \n",
       "1                   9.6                        29           221  \n",
       "2                   5.9                        48           136  \n",
       "3                  11.1                        25           255  \n",
       "4                  10.6                        27           244  "
      ]
     },
     "execution_count": 5,
     "metadata": {},
     "output_type": "execute_result"
    }
   ],
   "source": [
    "df = pd.read_csv('FuelConsumptionCo2.csv')\n",
    "df.head()"
   ]
  },
  {
   "cell_type": "code",
   "execution_count": 6,
   "metadata": {},
   "outputs": [],
   "source": [
    "# df.tail()\n",
    "# df.sample()         --> random\n",
    "# mỗi row là 1 ex = sample = instance = record\n",
    "# labels = classes = targets"
   ]
  },
  {
   "cell_type": "code",
   "execution_count": 7,
   "metadata": {},
   "outputs": [
    {
     "data": {
      "text/plain": [
       "(1067, 13)"
      ]
     },
     "execution_count": 7,
     "metadata": {},
     "output_type": "execute_result"
    }
   ],
   "source": [
    "df.shape"
   ]
  },
  {
   "cell_type": "code",
   "execution_count": 8,
   "metadata": {},
   "outputs": [
    {
     "name": "stdout",
     "output_type": "stream",
     "text": [
      "1067\n",
      "13\n"
     ]
    }
   ],
   "source": [
    "print(len(df))\n",
    "print(len(df.columns))"
   ]
  },
  {
   "cell_type": "code",
   "execution_count": 9,
   "metadata": {},
   "outputs": [
    {
     "data": {
      "text/html": [
       "<div>\n",
       "<style scoped>\n",
       "    .dataframe tbody tr th:only-of-type {\n",
       "        vertical-align: middle;\n",
       "    }\n",
       "\n",
       "    .dataframe tbody tr th {\n",
       "        vertical-align: top;\n",
       "    }\n",
       "\n",
       "    .dataframe thead th {\n",
       "        text-align: right;\n",
       "    }\n",
       "</style>\n",
       "<table border=\"1\" class=\"dataframe\">\n",
       "  <thead>\n",
       "    <tr style=\"text-align: right;\">\n",
       "      <th></th>\n",
       "      <th>MODELYEAR</th>\n",
       "      <th>MAKE</th>\n",
       "      <th>MODEL</th>\n",
       "      <th>VEHICLECLASS</th>\n",
       "      <th>ENGINESIZE</th>\n",
       "      <th>CYLINDERS</th>\n",
       "      <th>TRANSMISSION</th>\n",
       "      <th>FUELTYPE</th>\n",
       "      <th>FUELCONSUMPTION_CITY</th>\n",
       "      <th>FUELCONSUMPTION_HWY</th>\n",
       "      <th>FUELCONSUMPTION_COMB</th>\n",
       "      <th>FUELCONSUMPTION_COMB_MPG</th>\n",
       "      <th>CO2EMISSIONS</th>\n",
       "    </tr>\n",
       "  </thead>\n",
       "  <tbody>\n",
       "    <tr>\n",
       "      <th>0</th>\n",
       "      <td>False</td>\n",
       "      <td>False</td>\n",
       "      <td>False</td>\n",
       "      <td>False</td>\n",
       "      <td>False</td>\n",
       "      <td>False</td>\n",
       "      <td>False</td>\n",
       "      <td>False</td>\n",
       "      <td>False</td>\n",
       "      <td>False</td>\n",
       "      <td>False</td>\n",
       "      <td>False</td>\n",
       "      <td>False</td>\n",
       "    </tr>\n",
       "    <tr>\n",
       "      <th>1</th>\n",
       "      <td>False</td>\n",
       "      <td>False</td>\n",
       "      <td>False</td>\n",
       "      <td>False</td>\n",
       "      <td>False</td>\n",
       "      <td>False</td>\n",
       "      <td>False</td>\n",
       "      <td>False</td>\n",
       "      <td>False</td>\n",
       "      <td>False</td>\n",
       "      <td>False</td>\n",
       "      <td>False</td>\n",
       "      <td>False</td>\n",
       "    </tr>\n",
       "    <tr>\n",
       "      <th>2</th>\n",
       "      <td>False</td>\n",
       "      <td>False</td>\n",
       "      <td>False</td>\n",
       "      <td>False</td>\n",
       "      <td>False</td>\n",
       "      <td>False</td>\n",
       "      <td>False</td>\n",
       "      <td>False</td>\n",
       "      <td>False</td>\n",
       "      <td>False</td>\n",
       "      <td>False</td>\n",
       "      <td>False</td>\n",
       "      <td>False</td>\n",
       "    </tr>\n",
       "    <tr>\n",
       "      <th>3</th>\n",
       "      <td>False</td>\n",
       "      <td>False</td>\n",
       "      <td>False</td>\n",
       "      <td>False</td>\n",
       "      <td>False</td>\n",
       "      <td>False</td>\n",
       "      <td>False</td>\n",
       "      <td>False</td>\n",
       "      <td>False</td>\n",
       "      <td>False</td>\n",
       "      <td>False</td>\n",
       "      <td>False</td>\n",
       "      <td>False</td>\n",
       "    </tr>\n",
       "    <tr>\n",
       "      <th>4</th>\n",
       "      <td>False</td>\n",
       "      <td>False</td>\n",
       "      <td>False</td>\n",
       "      <td>False</td>\n",
       "      <td>False</td>\n",
       "      <td>False</td>\n",
       "      <td>False</td>\n",
       "      <td>False</td>\n",
       "      <td>False</td>\n",
       "      <td>False</td>\n",
       "      <td>False</td>\n",
       "      <td>False</td>\n",
       "      <td>False</td>\n",
       "    </tr>\n",
       "    <tr>\n",
       "      <th>...</th>\n",
       "      <td>...</td>\n",
       "      <td>...</td>\n",
       "      <td>...</td>\n",
       "      <td>...</td>\n",
       "      <td>...</td>\n",
       "      <td>...</td>\n",
       "      <td>...</td>\n",
       "      <td>...</td>\n",
       "      <td>...</td>\n",
       "      <td>...</td>\n",
       "      <td>...</td>\n",
       "      <td>...</td>\n",
       "      <td>...</td>\n",
       "    </tr>\n",
       "    <tr>\n",
       "      <th>1062</th>\n",
       "      <td>False</td>\n",
       "      <td>False</td>\n",
       "      <td>False</td>\n",
       "      <td>False</td>\n",
       "      <td>False</td>\n",
       "      <td>False</td>\n",
       "      <td>False</td>\n",
       "      <td>False</td>\n",
       "      <td>False</td>\n",
       "      <td>False</td>\n",
       "      <td>False</td>\n",
       "      <td>False</td>\n",
       "      <td>False</td>\n",
       "    </tr>\n",
       "    <tr>\n",
       "      <th>1063</th>\n",
       "      <td>False</td>\n",
       "      <td>False</td>\n",
       "      <td>False</td>\n",
       "      <td>False</td>\n",
       "      <td>False</td>\n",
       "      <td>False</td>\n",
       "      <td>False</td>\n",
       "      <td>False</td>\n",
       "      <td>False</td>\n",
       "      <td>False</td>\n",
       "      <td>False</td>\n",
       "      <td>False</td>\n",
       "      <td>False</td>\n",
       "    </tr>\n",
       "    <tr>\n",
       "      <th>1064</th>\n",
       "      <td>False</td>\n",
       "      <td>False</td>\n",
       "      <td>False</td>\n",
       "      <td>False</td>\n",
       "      <td>False</td>\n",
       "      <td>False</td>\n",
       "      <td>False</td>\n",
       "      <td>False</td>\n",
       "      <td>False</td>\n",
       "      <td>False</td>\n",
       "      <td>False</td>\n",
       "      <td>False</td>\n",
       "      <td>False</td>\n",
       "    </tr>\n",
       "    <tr>\n",
       "      <th>1065</th>\n",
       "      <td>False</td>\n",
       "      <td>False</td>\n",
       "      <td>False</td>\n",
       "      <td>False</td>\n",
       "      <td>False</td>\n",
       "      <td>False</td>\n",
       "      <td>False</td>\n",
       "      <td>False</td>\n",
       "      <td>False</td>\n",
       "      <td>False</td>\n",
       "      <td>False</td>\n",
       "      <td>False</td>\n",
       "      <td>False</td>\n",
       "    </tr>\n",
       "    <tr>\n",
       "      <th>1066</th>\n",
       "      <td>False</td>\n",
       "      <td>False</td>\n",
       "      <td>False</td>\n",
       "      <td>False</td>\n",
       "      <td>False</td>\n",
       "      <td>False</td>\n",
       "      <td>False</td>\n",
       "      <td>False</td>\n",
       "      <td>False</td>\n",
       "      <td>False</td>\n",
       "      <td>False</td>\n",
       "      <td>False</td>\n",
       "      <td>False</td>\n",
       "    </tr>\n",
       "  </tbody>\n",
       "</table>\n",
       "<p>1067 rows × 13 columns</p>\n",
       "</div>"
      ],
      "text/plain": [
       "      MODELYEAR   MAKE  MODEL  VEHICLECLASS  ENGINESIZE  CYLINDERS  \\\n",
       "0         False  False  False         False       False      False   \n",
       "1         False  False  False         False       False      False   \n",
       "2         False  False  False         False       False      False   \n",
       "3         False  False  False         False       False      False   \n",
       "4         False  False  False         False       False      False   \n",
       "...         ...    ...    ...           ...         ...        ...   \n",
       "1062      False  False  False         False       False      False   \n",
       "1063      False  False  False         False       False      False   \n",
       "1064      False  False  False         False       False      False   \n",
       "1065      False  False  False         False       False      False   \n",
       "1066      False  False  False         False       False      False   \n",
       "\n",
       "      TRANSMISSION  FUELTYPE  FUELCONSUMPTION_CITY  FUELCONSUMPTION_HWY  \\\n",
       "0            False     False                 False                False   \n",
       "1            False     False                 False                False   \n",
       "2            False     False                 False                False   \n",
       "3            False     False                 False                False   \n",
       "4            False     False                 False                False   \n",
       "...            ...       ...                   ...                  ...   \n",
       "1062         False     False                 False                False   \n",
       "1063         False     False                 False                False   \n",
       "1064         False     False                 False                False   \n",
       "1065         False     False                 False                False   \n",
       "1066         False     False                 False                False   \n",
       "\n",
       "      FUELCONSUMPTION_COMB  FUELCONSUMPTION_COMB_MPG  CO2EMISSIONS  \n",
       "0                    False                     False         False  \n",
       "1                    False                     False         False  \n",
       "2                    False                     False         False  \n",
       "3                    False                     False         False  \n",
       "4                    False                     False         False  \n",
       "...                    ...                       ...           ...  \n",
       "1062                 False                     False         False  \n",
       "1063                 False                     False         False  \n",
       "1064                 False                     False         False  \n",
       "1065                 False                     False         False  \n",
       "1066                 False                     False         False  \n",
       "\n",
       "[1067 rows x 13 columns]"
      ]
     },
     "execution_count": 9,
     "metadata": {},
     "output_type": "execute_result"
    }
   ],
   "source": [
    "df.isna()         # = df.isnull()"
   ]
  },
  {
   "cell_type": "code",
   "execution_count": 10,
   "metadata": {},
   "outputs": [
    {
     "data": {
      "text/plain": [
       "MODELYEAR                   0\n",
       "MAKE                        0\n",
       "MODEL                       0\n",
       "VEHICLECLASS                0\n",
       "ENGINESIZE                  0\n",
       "CYLINDERS                   0\n",
       "TRANSMISSION                0\n",
       "FUELTYPE                    0\n",
       "FUELCONSUMPTION_CITY        0\n",
       "FUELCONSUMPTION_HWY         0\n",
       "FUELCONSUMPTION_COMB        0\n",
       "FUELCONSUMPTION_COMB_MPG    0\n",
       "CO2EMISSIONS                0\n",
       "dtype: int64"
      ]
     },
     "execution_count": 10,
     "metadata": {},
     "output_type": "execute_result"
    }
   ],
   "source": [
    "df.isna().sum()"
   ]
  },
  {
   "cell_type": "code",
   "execution_count": 11,
   "metadata": {},
   "outputs": [
    {
     "name": "stdout",
     "output_type": "stream",
     "text": [
      "<class 'pandas.core.frame.DataFrame'>\n",
      "RangeIndex: 1067 entries, 0 to 1066\n",
      "Data columns (total 13 columns):\n",
      " #   Column                    Non-Null Count  Dtype  \n",
      "---  ------                    --------------  -----  \n",
      " 0   MODELYEAR                 1067 non-null   int64  \n",
      " 1   MAKE                      1067 non-null   object \n",
      " 2   MODEL                     1067 non-null   object \n",
      " 3   VEHICLECLASS              1067 non-null   object \n",
      " 4   ENGINESIZE                1067 non-null   float64\n",
      " 5   CYLINDERS                 1067 non-null   int64  \n",
      " 6   TRANSMISSION              1067 non-null   object \n",
      " 7   FUELTYPE                  1067 non-null   object \n",
      " 8   FUELCONSUMPTION_CITY      1067 non-null   float64\n",
      " 9   FUELCONSUMPTION_HWY       1067 non-null   float64\n",
      " 10  FUELCONSUMPTION_COMB      1067 non-null   float64\n",
      " 11  FUELCONSUMPTION_COMB_MPG  1067 non-null   int64  \n",
      " 12  CO2EMISSIONS              1067 non-null   int64  \n",
      "dtypes: float64(4), int64(4), object(5)\n",
      "memory usage: 108.5+ KB\n"
     ]
    }
   ],
   "source": [
    "df.info()"
   ]
  },
  {
   "cell_type": "code",
   "execution_count": 12,
   "metadata": {},
   "outputs": [
    {
     "data": {
      "text/plain": [
       "111096"
      ]
     },
     "execution_count": 12,
     "metadata": {},
     "output_type": "execute_result"
    }
   ],
   "source": [
    "df.memory_usage().sum()      # tính tổng bite load trong máy (/1024 để ra KB) "
   ]
  },
  {
   "cell_type": "code",
   "execution_count": 13,
   "metadata": {},
   "outputs": [
    {
     "data": {
      "text/html": [
       "<div>\n",
       "<style scoped>\n",
       "    .dataframe tbody tr th:only-of-type {\n",
       "        vertical-align: middle;\n",
       "    }\n",
       "\n",
       "    .dataframe tbody tr th {\n",
       "        vertical-align: top;\n",
       "    }\n",
       "\n",
       "    .dataframe thead th {\n",
       "        text-align: right;\n",
       "    }\n",
       "</style>\n",
       "<table border=\"1\" class=\"dataframe\">\n",
       "  <thead>\n",
       "    <tr style=\"text-align: right;\">\n",
       "      <th></th>\n",
       "      <th>MODELYEAR</th>\n",
       "      <th>ENGINESIZE</th>\n",
       "      <th>CYLINDERS</th>\n",
       "      <th>FUELCONSUMPTION_CITY</th>\n",
       "      <th>FUELCONSUMPTION_HWY</th>\n",
       "      <th>FUELCONSUMPTION_COMB</th>\n",
       "      <th>FUELCONSUMPTION_COMB_MPG</th>\n",
       "      <th>CO2EMISSIONS</th>\n",
       "    </tr>\n",
       "  </thead>\n",
       "  <tbody>\n",
       "    <tr>\n",
       "      <th>count</th>\n",
       "      <td>1067.0</td>\n",
       "      <td>1067.000000</td>\n",
       "      <td>1067.000000</td>\n",
       "      <td>1067.000000</td>\n",
       "      <td>1067.000000</td>\n",
       "      <td>1067.000000</td>\n",
       "      <td>1067.000000</td>\n",
       "      <td>1067.000000</td>\n",
       "    </tr>\n",
       "    <tr>\n",
       "      <th>mean</th>\n",
       "      <td>2014.0</td>\n",
       "      <td>3.346298</td>\n",
       "      <td>5.794752</td>\n",
       "      <td>13.296532</td>\n",
       "      <td>9.474602</td>\n",
       "      <td>11.580881</td>\n",
       "      <td>26.441425</td>\n",
       "      <td>256.228679</td>\n",
       "    </tr>\n",
       "    <tr>\n",
       "      <th>std</th>\n",
       "      <td>0.0</td>\n",
       "      <td>1.415895</td>\n",
       "      <td>1.797447</td>\n",
       "      <td>4.101253</td>\n",
       "      <td>2.794510</td>\n",
       "      <td>3.485595</td>\n",
       "      <td>7.468702</td>\n",
       "      <td>63.372304</td>\n",
       "    </tr>\n",
       "    <tr>\n",
       "      <th>min</th>\n",
       "      <td>2014.0</td>\n",
       "      <td>1.000000</td>\n",
       "      <td>3.000000</td>\n",
       "      <td>4.600000</td>\n",
       "      <td>4.900000</td>\n",
       "      <td>4.700000</td>\n",
       "      <td>11.000000</td>\n",
       "      <td>108.000000</td>\n",
       "    </tr>\n",
       "    <tr>\n",
       "      <th>25%</th>\n",
       "      <td>2014.0</td>\n",
       "      <td>2.000000</td>\n",
       "      <td>4.000000</td>\n",
       "      <td>10.250000</td>\n",
       "      <td>7.500000</td>\n",
       "      <td>9.000000</td>\n",
       "      <td>21.000000</td>\n",
       "      <td>207.000000</td>\n",
       "    </tr>\n",
       "    <tr>\n",
       "      <th>50%</th>\n",
       "      <td>2014.0</td>\n",
       "      <td>3.400000</td>\n",
       "      <td>6.000000</td>\n",
       "      <td>12.600000</td>\n",
       "      <td>8.800000</td>\n",
       "      <td>10.900000</td>\n",
       "      <td>26.000000</td>\n",
       "      <td>251.000000</td>\n",
       "    </tr>\n",
       "    <tr>\n",
       "      <th>75%</th>\n",
       "      <td>2014.0</td>\n",
       "      <td>4.300000</td>\n",
       "      <td>8.000000</td>\n",
       "      <td>15.550000</td>\n",
       "      <td>10.850000</td>\n",
       "      <td>13.350000</td>\n",
       "      <td>31.000000</td>\n",
       "      <td>294.000000</td>\n",
       "    </tr>\n",
       "    <tr>\n",
       "      <th>max</th>\n",
       "      <td>2014.0</td>\n",
       "      <td>8.400000</td>\n",
       "      <td>12.000000</td>\n",
       "      <td>30.200000</td>\n",
       "      <td>20.500000</td>\n",
       "      <td>25.800000</td>\n",
       "      <td>60.000000</td>\n",
       "      <td>488.000000</td>\n",
       "    </tr>\n",
       "  </tbody>\n",
       "</table>\n",
       "</div>"
      ],
      "text/plain": [
       "       MODELYEAR   ENGINESIZE    CYLINDERS  FUELCONSUMPTION_CITY  \\\n",
       "count     1067.0  1067.000000  1067.000000           1067.000000   \n",
       "mean      2014.0     3.346298     5.794752             13.296532   \n",
       "std          0.0     1.415895     1.797447              4.101253   \n",
       "min       2014.0     1.000000     3.000000              4.600000   \n",
       "25%       2014.0     2.000000     4.000000             10.250000   \n",
       "50%       2014.0     3.400000     6.000000             12.600000   \n",
       "75%       2014.0     4.300000     8.000000             15.550000   \n",
       "max       2014.0     8.400000    12.000000             30.200000   \n",
       "\n",
       "       FUELCONSUMPTION_HWY  FUELCONSUMPTION_COMB  FUELCONSUMPTION_COMB_MPG  \\\n",
       "count          1067.000000           1067.000000               1067.000000   \n",
       "mean              9.474602             11.580881                 26.441425   \n",
       "std               2.794510              3.485595                  7.468702   \n",
       "min               4.900000              4.700000                 11.000000   \n",
       "25%               7.500000              9.000000                 21.000000   \n",
       "50%               8.800000             10.900000                 26.000000   \n",
       "75%              10.850000             13.350000                 31.000000   \n",
       "max              20.500000             25.800000                 60.000000   \n",
       "\n",
       "       CO2EMISSIONS  \n",
       "count   1067.000000  \n",
       "mean     256.228679  \n",
       "std       63.372304  \n",
       "min      108.000000  \n",
       "25%      207.000000  \n",
       "50%      251.000000  \n",
       "75%      294.000000  \n",
       "max      488.000000  "
      ]
     },
     "execution_count": 13,
     "metadata": {},
     "output_type": "execute_result"
    }
   ],
   "source": [
    "df.describe()"
   ]
  },
  {
   "cell_type": "code",
   "execution_count": 14,
   "metadata": {},
   "outputs": [
    {
     "data": {
      "text/html": [
       "<div>\n",
       "<style scoped>\n",
       "    .dataframe tbody tr th:only-of-type {\n",
       "        vertical-align: middle;\n",
       "    }\n",
       "\n",
       "    .dataframe tbody tr th {\n",
       "        vertical-align: top;\n",
       "    }\n",
       "\n",
       "    .dataframe thead th {\n",
       "        text-align: right;\n",
       "    }\n",
       "</style>\n",
       "<table border=\"1\" class=\"dataframe\">\n",
       "  <thead>\n",
       "    <tr style=\"text-align: right;\">\n",
       "      <th></th>\n",
       "      <th>MAKE</th>\n",
       "      <th>MODEL</th>\n",
       "      <th>VEHICLECLASS</th>\n",
       "      <th>TRANSMISSION</th>\n",
       "      <th>FUELTYPE</th>\n",
       "    </tr>\n",
       "  </thead>\n",
       "  <tbody>\n",
       "    <tr>\n",
       "      <th>count</th>\n",
       "      <td>1067</td>\n",
       "      <td>1067</td>\n",
       "      <td>1067</td>\n",
       "      <td>1067</td>\n",
       "      <td>1067</td>\n",
       "    </tr>\n",
       "    <tr>\n",
       "      <th>unique</th>\n",
       "      <td>39</td>\n",
       "      <td>663</td>\n",
       "      <td>16</td>\n",
       "      <td>22</td>\n",
       "      <td>4</td>\n",
       "    </tr>\n",
       "    <tr>\n",
       "      <th>top</th>\n",
       "      <td>FORD</td>\n",
       "      <td>F150 FFV</td>\n",
       "      <td>MID-SIZE</td>\n",
       "      <td>A6</td>\n",
       "      <td>X</td>\n",
       "    </tr>\n",
       "    <tr>\n",
       "      <th>freq</th>\n",
       "      <td>90</td>\n",
       "      <td>8</td>\n",
       "      <td>178</td>\n",
       "      <td>222</td>\n",
       "      <td>514</td>\n",
       "    </tr>\n",
       "  </tbody>\n",
       "</table>\n",
       "</div>"
      ],
      "text/plain": [
       "        MAKE     MODEL VEHICLECLASS TRANSMISSION FUELTYPE\n",
       "count   1067      1067         1067         1067     1067\n",
       "unique    39       663           16           22        4\n",
       "top     FORD  F150 FFV     MID-SIZE           A6        X\n",
       "freq      90         8          178          222      514"
      ]
     },
     "execution_count": 14,
     "metadata": {},
     "output_type": "execute_result"
    }
   ],
   "source": [
    "df[['MAKE','MODEL','VEHICLECLASS','TRANSMISSION','FUELTYPE']].describe()"
   ]
  },
  {
   "cell_type": "markdown",
   "metadata": {},
   "source": [
    "### 3. Eploratory Data Analysis (EDA)"
   ]
  },
  {
   "cell_type": "markdown",
   "metadata": {},
   "source": [
    "### - python pep8: reading interesting code"
   ]
  },
  {
   "cell_type": "code",
   "execution_count": 16,
   "metadata": {},
   "outputs": [],
   "source": [
    "def square(x):\n",
    "    \"\"\"\n",
    "    cu phap:\n",
    "    muc tieu:\n",
    "    tham so:\n",
    "    gia tri dau vao\n",
    "    gia tri dau ra\n",
    "    \"\"\"\n",
    "    return x**2"
   ]
  },
  {
   "cell_type": "code",
   "execution_count": 17,
   "metadata": {},
   "outputs": [
    {
     "data": {
      "text/plain": [
       "4"
      ]
     },
     "execution_count": 17,
     "metadata": {},
     "output_type": "execute_result"
    }
   ],
   "source": [
    "square(2)"
   ]
  },
  {
   "cell_type": "code",
   "execution_count": 18,
   "metadata": {},
   "outputs": [],
   "source": [
    "# !pip install -U seaborn"
   ]
  },
  {
   "cell_type": "code",
   "execution_count": 19,
   "metadata": {},
   "outputs": [
    {
     "name": "stderr",
     "output_type": "stream",
     "text": [
      "C:\\Users\\HP\\anaconda3\\lib\\site-packages\\seaborn\\distributions.py:2619: FutureWarning: `distplot` is a deprecated function and will be removed in a future version. Please adapt your code to use either `displot` (a figure-level function with similar flexibility) or `histplot` (an axes-level function for histograms).\n",
      "  warnings.warn(msg, FutureWarning)\n"
     ]
    },
    {
     "data": {
      "text/plain": [
       "<matplotlib.axes._subplots.AxesSubplot at 0x171f629b2e0>"
      ]
     },
     "execution_count": 19,
     "metadata": {},
     "output_type": "execute_result"
    },
    {
     "data": {
      "image/png": "[encoded data removed]",
      "text/plain": [
       "<Figure size 432x288 with 1 Axes>"
      ]
     },
     "metadata": {
      "needs_background": "light"
     },
     "output_type": "display_data"
    }
   ],
   "source": [
    "sns.distplot(df['ENGINESIZE'])"
   ]
  },
  {
   "cell_type": "code",
   "execution_count": 20,
   "metadata": {},
   "outputs": [
    {
     "data": {
      "text/plain": [
       "<matplotlib.axes._subplots.AxesSubplot at 0x171f6a2a610>"
      ]
     },
     "execution_count": 20,
     "metadata": {},
     "output_type": "execute_result"
    },
    {
     "data": {
      "image/png": "[encoded data removed]",
      "text/plain": [
       "<Figure size 432x288 with 1 Axes>"
      ]
     },
     "metadata": {
      "needs_background": "light"
     },
     "output_type": "display_data"
    }
   ],
   "source": [
    "sns.boxplot(data=df['ENGINESIZE'])"
   ]
  },
  {
   "cell_type": "code",
   "execution_count": 21,
   "metadata": {},
   "outputs": [
    {
     "data": {
      "text/plain": [
       "<matplotlib.axes._subplots.AxesSubplot at 0x171f6a2ad60>"
      ]
     },
     "execution_count": 21,
     "metadata": {},
     "output_type": "execute_result"
    },
    {
     "data": {
      "image/png": "[encoded data removed]",
      "text/plain": [
       "<Figure size 1008x360 with 1 Axes>"
      ]
     },
     "metadata": {
      "needs_background": "light"
     },
     "output_type": "display_data"
    }
   ],
   "source": [
    "plt.figure(figsize=(14,5))\n",
    "sns.boxplot(data=df.drop(columns=['MODELYEAR','CO2EMISSIONS']))"
   ]
  },
  {
   "cell_type": "code",
   "execution_count": 22,
   "metadata": {},
   "outputs": [
    {
     "data": {
      "image/png": "[encoded data removed]",
      "text/plain": [
       "<Figure size 1008x360 with 1 Axes>"
      ]
     },
     "metadata": {
      "needs_background": "light"
     },
     "output_type": "display_data"
    }
   ],
   "source": [
    "plt.figure(figsize=(14,5))\n",
    "sns.boxplot(data=df.drop(columns=['MODELYEAR','CO2EMISSIONS']))\n",
    "plt.show()"
   ]
  },
  {
   "cell_type": "code",
   "execution_count": 23,
   "metadata": {},
   "outputs": [
    {
     "data": {
      "image/png": "[encoded data removed]",
      "text/plain": [
       "<Figure size 1008x360 with 1 Axes>"
      ]
     },
     "metadata": {
      "needs_background": "light"
     },
     "output_type": "display_data"
    }
   ],
   "source": [
    "plt.figure(figsize=(14,5))\n",
    "sns.boxplot(data=df.drop(columns=['MODELYEAR','CO2EMISSIONS']))\n",
    "plt.xticks(rotation=90)\n",
    "plt.show()"
   ]
  },
  {
   "cell_type": "code",
   "execution_count": 24,
   "metadata": {},
   "outputs": [
    {
     "data": {
      "text/plain": [
       "<matplotlib.axes._subplots.AxesSubplot at 0x171f6e7e730>"
      ]
     },
     "execution_count": 24,
     "metadata": {},
     "output_type": "execute_result"
    },
    {
     "data": {
      "image/png": "[encoded data removed]",
      "text/plain": [
       "<Figure size 432x288 with 1 Axes>"
      ]
     },
     "metadata": {
      "needs_background": "light"
     },
     "output_type": "display_data"
    }
   ],
   "source": [
    "sns.violinplot(data=df['ENGINESIZE'])"
   ]
  },
  {
   "cell_type": "markdown",
   "metadata": {},
   "source": [
    "### 4. Feature selection"
   ]
  },
  {
   "cell_type": "markdown",
   "metadata": {},
   "source": [
    "##### - Bước này giảm số features k cần, đc sdung trong pre_train and after that\n",
    "##### - Feature importance: Decision Tree, Random Forest, XGboost"
   ]
  },
  {
   "cell_type": "code",
   "execution_count": 26,
   "metadata": {},
   "outputs": [
    {
     "data": {
      "image/png": "[encoded data removed]",
      "text/plain": [
       "<Figure size 432x288 with 2 Axes>"
      ]
     },
     "metadata": {
      "needs_background": "light"
     },
     "output_type": "display_data"
    }
   ],
   "source": [
    "sns.heatmap(df.drop(columns='MODELYEAR').corr())\n",
    "plt.show()"
   ]
  },
  {
   "cell_type": "code",
   "execution_count": 27,
   "metadata": {},
   "outputs": [
    {
     "data": {
      "image/png": "[encoded data removed]",
      "text/plain": [
       "<Figure size 432x288 with 2 Axes>"
      ]
     },
     "metadata": {
      "needs_background": "light"
     },
     "output_type": "display_data"
    }
   ],
   "source": [
    "sns.heatmap(df.drop(columns='MODELYEAR').corr(), annot=True)\n",
    "plt.show()"
   ]
  },
  {
   "cell_type": "code",
   "execution_count": 28,
   "metadata": {},
   "outputs": [
    {
     "data": {
      "image/png": "[encoded data removed]",
      "text/plain": [
       "<Figure size 432x288 with 2 Axes>"
      ]
     },
     "metadata": {
      "needs_background": "light"
     },
     "output_type": "display_data"
    }
   ],
   "source": [
    "sns.heatmap(df.drop(columns='MODELYEAR').corr(), annot=True, linewidths=0.01, linecolor='black')\n",
    "plt.show()"
   ]
  },
  {
   "cell_type": "code",
   "execution_count": 29,
   "metadata": {},
   "outputs": [
    {
     "data": {
      "image/png": "[encoded data removed]",
      "text/plain": [
       "<Figure size 1440x432 with 3 Axes>"
      ]
     },
     "metadata": {
      "needs_background": "light"
     },
     "output_type": "display_data"
    }
   ],
   "source": [
    "fig, ax = plt.subplots(1,3, figsize=(20,6))\n",
    "ax[0].scatter(df.ENGINESIZE, df.CO2EMISSIONS)                        # ax ~ plot\n",
    "ax[0].set(xlabel='ENGINESIZE', ylabel='CO2EMISSIONS')\n",
    "ax[1].scatter(df.CYLINDERS, df.CO2EMISSIONS)\n",
    "ax[1].set(xlabel='CYLINDERS', ylabel='CO2EMISSIONS')\n",
    "ax[2].scatter(df.FUELCONSUMPTION_CITY, df.CO2EMISSIONS)\n",
    "ax[2].set(xlabel='FUELCONSUMPTION_CITY', ylabel='CO2EMISSIONS')\n",
    "plt.show()"
   ]
  },
  {
   "cell_type": "markdown",
   "metadata": {},
   "source": [
    "### 5. Train model"
   ]
  },
  {
   "cell_type": "code",
   "execution_count": 30,
   "metadata": {},
   "outputs": [],
   "source": [
    "# !pip install sklearn"
   ]
  },
  {
   "cell_type": "code",
   "execution_count": 31,
   "metadata": {},
   "outputs": [],
   "source": [
    "from sklearn.linear_model import LinearRegression"
   ]
  },
  {
   "cell_type": "code",
   "execution_count": 32,
   "metadata": {},
   "outputs": [],
   "source": [
    "# Model -> fit(data) -> predict"
   ]
  },
  {
   "cell_type": "code",
   "execution_count": 33,
   "metadata": {},
   "outputs": [
    {
     "data": {
      "text/plain": [
       "LinearRegression()"
      ]
     },
     "execution_count": 33,
     "metadata": {},
     "output_type": "execute_result"
    }
   ],
   "source": [
    "model = LinearRegression()\n",
    "model.fit(df[['ENGINESIZE']], df['CO2EMISSIONS'])         # fit(feature, label)"
   ]
  },
  {
   "cell_type": "code",
   "execution_count": 34,
   "metadata": {},
   "outputs": [
    {
     "data": {
      "text/plain": [
       "array([39.12519979])"
      ]
     },
     "execution_count": 34,
     "metadata": {},
     "output_type": "execute_result"
    }
   ],
   "source": [
    "# calculate a = tan(góc tạo bởi dthang và trục X)\n",
    "model.coef_"
   ]
  },
  {
   "cell_type": "code",
   "execution_count": 35,
   "metadata": {},
   "outputs": [
    {
     "data": {
      "text/plain": [
       "125.30409949535684"
      ]
     },
     "execution_count": 35,
     "metadata": {},
     "output_type": "execute_result"
    }
   ],
   "source": [
    "# calculate b\n",
    "model.intercept_"
   ]
  },
  {
   "cell_type": "code",
   "execution_count": 36,
   "metadata": {},
   "outputs": [
    {
     "data": {
      "text/plain": [
       "array([203.55449907, 219.20457898, 183.99189918, ..., 242.67969886,\n",
       "       250.50473881, 250.50473881])"
      ]
     },
     "execution_count": 36,
     "metadata": {},
     "output_type": "execute_result"
    }
   ],
   "source": [
    "### C1:\n",
    "prediction = model.predict(df[['ENGINESIZE']])\n",
    "prediction"
   ]
  },
  {
   "cell_type": "code",
   "execution_count": 37,
   "metadata": {},
   "outputs": [
    {
     "data": {
      "text/html": [
       "<div>\n",
       "<style scoped>\n",
       "    .dataframe tbody tr th:only-of-type {\n",
       "        vertical-align: middle;\n",
       "    }\n",
       "\n",
       "    .dataframe tbody tr th {\n",
       "        vertical-align: top;\n",
       "    }\n",
       "\n",
       "    .dataframe thead th {\n",
       "        text-align: right;\n",
       "    }\n",
       "</style>\n",
       "<table border=\"1\" class=\"dataframe\">\n",
       "  <thead>\n",
       "    <tr style=\"text-align: right;\">\n",
       "      <th></th>\n",
       "      <th>ENGINESIZE</th>\n",
       "    </tr>\n",
       "  </thead>\n",
       "  <tbody>\n",
       "    <tr>\n",
       "      <th>0</th>\n",
       "      <td>203.554499</td>\n",
       "    </tr>\n",
       "    <tr>\n",
       "      <th>1</th>\n",
       "      <td>219.204579</td>\n",
       "    </tr>\n",
       "    <tr>\n",
       "      <th>2</th>\n",
       "      <td>183.991899</td>\n",
       "    </tr>\n",
       "    <tr>\n",
       "      <th>3</th>\n",
       "      <td>262.242299</td>\n",
       "    </tr>\n",
       "    <tr>\n",
       "      <th>4</th>\n",
       "      <td>262.242299</td>\n",
       "    </tr>\n",
       "    <tr>\n",
       "      <th>...</th>\n",
       "      <td>...</td>\n",
       "    </tr>\n",
       "    <tr>\n",
       "      <th>1062</th>\n",
       "      <td>242.679699</td>\n",
       "    </tr>\n",
       "    <tr>\n",
       "      <th>1063</th>\n",
       "      <td>250.504739</td>\n",
       "    </tr>\n",
       "    <tr>\n",
       "      <th>1064</th>\n",
       "      <td>242.679699</td>\n",
       "    </tr>\n",
       "    <tr>\n",
       "      <th>1065</th>\n",
       "      <td>250.504739</td>\n",
       "    </tr>\n",
       "    <tr>\n",
       "      <th>1066</th>\n",
       "      <td>250.504739</td>\n",
       "    </tr>\n",
       "  </tbody>\n",
       "</table>\n",
       "<p>1067 rows × 1 columns</p>\n",
       "</div>"
      ],
      "text/plain": [
       "      ENGINESIZE\n",
       "0     203.554499\n",
       "1     219.204579\n",
       "2     183.991899\n",
       "3     262.242299\n",
       "4     262.242299\n",
       "...          ...\n",
       "1062  242.679699\n",
       "1063  250.504739\n",
       "1064  242.679699\n",
       "1065  250.504739\n",
       "1066  250.504739\n",
       "\n",
       "[1067 rows x 1 columns]"
      ]
     },
     "execution_count": 37,
     "metadata": {},
     "output_type": "execute_result"
    }
   ],
   "source": [
    "### C2: use y = ax + b:\n",
    "prediction1 = model.coef_[0] * df[['ENGINESIZE']] + model.intercept_\n",
    "prediction1"
   ]
  },
  {
   "cell_type": "code",
   "execution_count": 38,
   "metadata": {},
   "outputs": [
    {
     "data": {
      "text/html": [
       "<div>\n",
       "<style scoped>\n",
       "    .dataframe tbody tr th:only-of-type {\n",
       "        vertical-align: middle;\n",
       "    }\n",
       "\n",
       "    .dataframe tbody tr th {\n",
       "        vertical-align: top;\n",
       "    }\n",
       "\n",
       "    .dataframe thead th {\n",
       "        text-align: right;\n",
       "    }\n",
       "</style>\n",
       "<table border=\"1\" class=\"dataframe\">\n",
       "  <thead>\n",
       "    <tr style=\"text-align: right;\">\n",
       "      <th></th>\n",
       "      <th>auto</th>\n",
       "      <th>manual</th>\n",
       "    </tr>\n",
       "  </thead>\n",
       "  <tbody>\n",
       "    <tr>\n",
       "      <th>0</th>\n",
       "      <td>203.554499</td>\n",
       "      <td>203.554499</td>\n",
       "    </tr>\n",
       "    <tr>\n",
       "      <th>1</th>\n",
       "      <td>219.204579</td>\n",
       "      <td>219.204579</td>\n",
       "    </tr>\n",
       "    <tr>\n",
       "      <th>2</th>\n",
       "      <td>183.991899</td>\n",
       "      <td>183.991899</td>\n",
       "    </tr>\n",
       "    <tr>\n",
       "      <th>3</th>\n",
       "      <td>262.242299</td>\n",
       "      <td>262.242299</td>\n",
       "    </tr>\n",
       "    <tr>\n",
       "      <th>4</th>\n",
       "      <td>262.242299</td>\n",
       "      <td>262.242299</td>\n",
       "    </tr>\n",
       "    <tr>\n",
       "      <th>...</th>\n",
       "      <td>...</td>\n",
       "      <td>...</td>\n",
       "    </tr>\n",
       "    <tr>\n",
       "      <th>1062</th>\n",
       "      <td>242.679699</td>\n",
       "      <td>242.679699</td>\n",
       "    </tr>\n",
       "    <tr>\n",
       "      <th>1063</th>\n",
       "      <td>250.504739</td>\n",
       "      <td>250.504739</td>\n",
       "    </tr>\n",
       "    <tr>\n",
       "      <th>1064</th>\n",
       "      <td>242.679699</td>\n",
       "      <td>242.679699</td>\n",
       "    </tr>\n",
       "    <tr>\n",
       "      <th>1065</th>\n",
       "      <td>250.504739</td>\n",
       "      <td>250.504739</td>\n",
       "    </tr>\n",
       "    <tr>\n",
       "      <th>1066</th>\n",
       "      <td>250.504739</td>\n",
       "      <td>250.504739</td>\n",
       "    </tr>\n",
       "  </tbody>\n",
       "</table>\n",
       "<p>1067 rows × 2 columns</p>\n",
       "</div>"
      ],
      "text/plain": [
       "            auto      manual\n",
       "0     203.554499  203.554499\n",
       "1     219.204579  219.204579\n",
       "2     183.991899  183.991899\n",
       "3     262.242299  262.242299\n",
       "4     262.242299  262.242299\n",
       "...          ...         ...\n",
       "1062  242.679699  242.679699\n",
       "1063  250.504739  250.504739\n",
       "1064  242.679699  242.679699\n",
       "1065  250.504739  250.504739\n",
       "1066  250.504739  250.504739\n",
       "\n",
       "[1067 rows x 2 columns]"
      ]
     },
     "execution_count": 38,
     "metadata": {},
     "output_type": "execute_result"
    }
   ],
   "source": [
    "pd.DataFrame({'auto': prediction,\n",
    "             'manual': prediction1.ENGINESIZE   # prediction1.ENGINESIZE.to_list()\n",
    "             })"
   ]
  },
  {
   "cell_type": "markdown",
   "metadata": {},
   "source": [
    "## Evaluation methods:  (These are three useful methods)\n",
    "![](https://algotrading101.com/learn/wp-content/uploads/2020/06/training-validation-test-data-set.png)\n",
    "![](data:image/png;base64,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)\n",
    "![](https://digitalmind.io/illustrations/post/train-test-split-and-cross-validation/cross-validation.png)"
   ]
  },
  {
   "cell_type": "markdown",
   "metadata": {},
   "source": [
    "### In Lecture 2,3 we just learn methods 1:\n",
    "##### search on Sklearn -> model selection"
   ]
  },
  {
   "cell_type": "code",
   "execution_count": 39,
   "metadata": {},
   "outputs": [],
   "source": [
    "from sklearn.model_selection import train_test_split"
   ]
  },
  {
   "cell_type": "markdown",
   "metadata": {},
   "source": [
    "#### Hàm train_test_split() chia dữ liệu theo tỉ lệ cta muốn nhưng Random Data\n",
    "#### But if we use random_state = |any constant| -> we run again -> old results as the first time we ran"
   ]
  },
  {
   "cell_type": "code",
   "execution_count": 40,
   "metadata": {},
   "outputs": [],
   "source": [
    "X_train, X_test, y_train, y_test = train_test_split(df[['ENGINESIZE']], df.CO2EMISSIONS, test_size=0.2, random_state=42)   # auto if not write train_size/test_size is train/test=0.75/0.25"
   ]
  },
  {
   "cell_type": "markdown",
   "metadata": {},
   "source": [
    "#### Remember the row of X_train have to equal y_train, and the same for X_test & y_test"
   ]
  },
  {
   "cell_type": "code",
   "execution_count": 41,
   "metadata": {},
   "outputs": [
    {
     "data": {
      "text/plain": [
       "((853, 1), (853,))"
      ]
     },
     "execution_count": 41,
     "metadata": {},
     "output_type": "execute_result"
    }
   ],
   "source": [
    "X_train.shape, y_train.shape"
   ]
  },
  {
   "cell_type": "code",
   "execution_count": 42,
   "metadata": {},
   "outputs": [
    {
     "data": {
      "text/plain": [
       "((214, 1), (214,))"
      ]
     },
     "execution_count": 42,
     "metadata": {},
     "output_type": "execute_result"
    }
   ],
   "source": [
    "X_test.shape, y_test.shape"
   ]
  },
  {
   "cell_type": "code",
   "execution_count": 43,
   "metadata": {},
   "outputs": [
    {
     "data": {
      "text/plain": [
       "LinearRegression()"
      ]
     },
     "execution_count": 43,
     "metadata": {},
     "output_type": "execute_result"
    }
   ],
   "source": [
    "model = LinearRegression()\n",
    "model.fit(X_train, y_train)"
   ]
  },
  {
   "cell_type": "code",
   "execution_count": 44,
   "metadata": {},
   "outputs": [
    {
     "data": {
      "text/plain": [
       "array([309.55670218, 262.76512771, 266.66442558, 243.26863835,\n",
       "       204.27565962, 243.26863835, 266.66442558, 282.26161707,\n",
       "       321.2545958 , 266.66442558, 266.66442558, 387.54265963,\n",
       "       251.06723409, 262.76512771, 266.66442558, 262.76512771,\n",
       "       188.67846813, 266.66442558, 188.67846813, 332.95248941,\n",
       "       321.2545958 , 196.47706388, 251.06723409, 270.56372345,\n",
       "       243.26863835, 196.47706388, 204.27565962, 188.67846813,\n",
       "       340.75108516, 251.06723409, 336.85178729, 219.87285111,\n",
       "       196.47706388, 321.2545958 , 243.26863835, 309.55670218,\n",
       "       282.26161707, 332.95248941, 204.27565962, 223.77214899,\n",
       "       188.67846813, 188.67846813, 180.87987239, 223.77214899,\n",
       "       282.26161707, 188.67846813, 243.26863835, 243.26863835,\n",
       "       204.27565962, 329.05319154, 368.04617027, 266.66442558,\n",
       "       204.27565962, 270.56372345, 243.26863835, 332.95248941,\n",
       "       332.95248941, 348.5496809 , 204.27565962, 293.95951069,\n",
       "       282.26161707, 293.95951069, 297.85880856, 266.66442558,\n",
       "       188.67846813, 258.86582984, 180.87987239, 313.45600005,\n",
       "       243.26863835, 270.56372345, 321.2545958 , 204.27565962,\n",
       "       262.76512771, 204.27565962, 204.27565962, 266.66442558,\n",
       "       332.95248941, 368.04617027, 368.04617027, 262.76512771,\n",
       "       219.87285111, 196.47706388, 231.57074473, 262.76512771,\n",
       "       188.67846813, 243.26863835, 243.26863835, 204.27565962,\n",
       "       348.5496809 , 204.27565962, 231.57074473, 290.06021282,\n",
       "       262.76512771, 196.47706388, 204.27565962, 204.27565962,\n",
       "       219.87285111, 262.76512771, 266.66442558, 344.65038303,\n",
       "       368.04617027, 223.77214899, 266.66442558, 219.87285111,\n",
       "       266.66442558, 165.2826809 , 243.26863835, 204.27565962,\n",
       "       219.87285111, 204.27565962, 184.77917026, 262.76512771,\n",
       "       266.66442558, 231.57074473, 305.65740431, 266.66442558,\n",
       "       270.56372345, 313.45600005, 266.66442558, 188.67846813,\n",
       "       262.76512771, 184.77917026, 231.57074473, 196.47706388,\n",
       "       243.26863835, 219.87285111, 266.66442558, 204.27565962,\n",
       "       348.5496809 , 204.27565962, 188.67846813, 188.67846813,\n",
       "       360.24757452, 196.47706388, 262.76512771, 243.26863835,\n",
       "       243.26863835, 340.75108516, 204.27565962, 282.26161707,\n",
       "       348.5496809 , 262.76512771, 188.67846813, 266.66442558,\n",
       "       180.87987239, 262.76512771, 266.66442558, 196.47706388,\n",
       "       293.95951069, 329.05319154, 204.27565962, 262.76512771,\n",
       "       251.06723409, 243.26863835, 243.26863835, 293.95951069,\n",
       "       321.2545958 , 243.26863835, 196.47706388, 266.66442558,\n",
       "       375.84476601, 340.75108516, 204.27565962, 266.66442558,\n",
       "       219.87285111, 266.66442558, 231.57074473, 348.5496809 ,\n",
       "       204.27565962, 180.87987239, 204.27565962, 368.04617027,\n",
       "       356.34827665, 274.46302133, 336.85178729, 196.47706388,\n",
       "       262.76512771, 204.27565962, 274.46302133, 243.26863835,\n",
       "       196.47706388, 204.27565962, 243.26863835, 336.85178729,\n",
       "       223.77214899, 321.2545958 , 332.95248941, 173.08127664,\n",
       "       188.67846813, 184.77917026, 223.77214899, 196.47706388,\n",
       "       223.77214899, 188.67846813, 188.67846813, 196.47706388,\n",
       "       262.76512771, 204.27565962, 274.46302133, 204.27565962,\n",
       "       321.2545958 , 184.77917026, 305.65740431, 219.87285111,\n",
       "       348.5496809 , 360.24757452, 219.87285111, 204.27565962,\n",
       "       332.95248941, 204.27565962, 219.87285111, 219.87285111,\n",
       "       243.26863835, 453.83072346])"
      ]
     },
     "execution_count": 44,
     "metadata": {},
     "output_type": "execute_result"
    }
   ],
   "source": [
    "prediction2 = model.predict(X_test)\n",
    "prediction2"
   ]
  },
  {
   "cell_type": "code",
   "execution_count": 45,
   "metadata": {},
   "outputs": [
    {
     "data": {
      "text/html": [
       "<div>\n",
       "<style scoped>\n",
       "    .dataframe tbody tr th:only-of-type {\n",
       "        vertical-align: middle;\n",
       "    }\n",
       "\n",
       "    .dataframe tbody tr th {\n",
       "        vertical-align: top;\n",
       "    }\n",
       "\n",
       "    .dataframe thead th {\n",
       "        text-align: right;\n",
       "    }\n",
       "</style>\n",
       "<table border=\"1\" class=\"dataframe\">\n",
       "  <thead>\n",
       "    <tr style=\"text-align: right;\">\n",
       "      <th></th>\n",
       "      <th>auto</th>\n",
       "      <th>groundtruth</th>\n",
       "    </tr>\n",
       "  </thead>\n",
       "  <tbody>\n",
       "    <tr>\n",
       "      <th>732</th>\n",
       "      <td>309.556702</td>\n",
       "      <td>304</td>\n",
       "    </tr>\n",
       "    <tr>\n",
       "      <th>657</th>\n",
       "      <td>262.765128</td>\n",
       "      <td>221</td>\n",
       "    </tr>\n",
       "    <tr>\n",
       "      <th>168</th>\n",
       "      <td>266.664426</td>\n",
       "      <td>294</td>\n",
       "    </tr>\n",
       "    <tr>\n",
       "      <th>86</th>\n",
       "      <td>243.268638</td>\n",
       "      <td>221</td>\n",
       "    </tr>\n",
       "    <tr>\n",
       "      <th>411</th>\n",
       "      <td>204.275660</td>\n",
       "      <td>207</td>\n",
       "    </tr>\n",
       "    <tr>\n",
       "      <th>...</th>\n",
       "      <td>...</td>\n",
       "      <td>...</td>\n",
       "    </tr>\n",
       "    <tr>\n",
       "      <th>963</th>\n",
       "      <td>204.275660</td>\n",
       "      <td>212</td>\n",
       "    </tr>\n",
       "    <tr>\n",
       "      <th>294</th>\n",
       "      <td>219.872851</td>\n",
       "      <td>230</td>\n",
       "    </tr>\n",
       "    <tr>\n",
       "      <th>275</th>\n",
       "      <td>219.872851</td>\n",
       "      <td>232</td>\n",
       "    </tr>\n",
       "    <tr>\n",
       "      <th>903</th>\n",
       "      <td>243.268638</td>\n",
       "      <td>260</td>\n",
       "    </tr>\n",
       "    <tr>\n",
       "      <th>941</th>\n",
       "      <td>453.830723</td>\n",
       "      <td>389</td>\n",
       "    </tr>\n",
       "  </tbody>\n",
       "</table>\n",
       "<p>214 rows × 2 columns</p>\n",
       "</div>"
      ],
      "text/plain": [
       "           auto  groundtruth\n",
       "732  309.556702          304\n",
       "657  262.765128          221\n",
       "168  266.664426          294\n",
       "86   243.268638          221\n",
       "411  204.275660          207\n",
       "..          ...          ...\n",
       "963  204.275660          212\n",
       "294  219.872851          230\n",
       "275  219.872851          232\n",
       "903  243.268638          260\n",
       "941  453.830723          389\n",
       "\n",
       "[214 rows x 2 columns]"
      ]
     },
     "execution_count": 45,
     "metadata": {},
     "output_type": "execute_result"
    }
   ],
   "source": [
    "pd.DataFrame({'auto': prediction2,\n",
    "             'groundtruth': y_test\n",
    "             })"
   ]
  },
  {
   "cell_type": "markdown",
   "metadata": {},
   "source": [
    "### 6. Evaluation"
   ]
  },
  {
   "cell_type": "markdown",
   "metadata": {},
   "source": [
    "## Evaluation Metrics:\n",
    "##### +) Regression: MSE, RMSE, MAE, R2-score\n",
    "##### +) Classification: Accuracy, Precision, Recall, F1_score, |ROC, AUC, Gini|"
   ]
  },
  {
   "cell_type": "markdown",
   "metadata": {},
   "source": [
    "##### * MSE = Mean Squared Error\n",
    "##### * RMSE = Root Mean Squared Error\n",
    "##### * MAE = Mean Absolute Error\n",
    "#### --> MSE, RMSE, MAE càng nhỏ càng tốt\n",
    "##### * R2-score\n",
    "#### --> R2-score càng lớn càng chính xác"
   ]
  },
  {
   "cell_type": "markdown",
   "metadata": {},
   "source": [
    "### * MSE:\n",
    "![](https://cdn-media-1.freecodecamp.org/images/hmZydSW9YegiMVPWq2JBpOpai3CejzQpGkNG)\n",
    "![](https://d1zx6djv3kb1v7.cloudfront.net/wp-content/media/2019/11/Differences-between-MSE-and-RMSE-1-i2tutorials.jpg)"
   ]
  },
  {
   "cell_type": "markdown",
   "metadata": {},
   "source": [
    "### * RMSE:\n",
    "![](data:image/jpeg;base64,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)"
   ]
  },
  {
   "cell_type": "markdown",
   "metadata": {},
   "source": [
    "### * MAE:\n",
    "![](data:image/png;base64,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)"
   ]
  },
  {
   "cell_type": "markdown",
   "metadata": {},
   "source": [
    "### * R2-score:\n",
    "![](https://miro.medium.com/max/2812/1*_HbrAW-tMRBli6ASD5Bttw.png)"
   ]
  },
  {
   "cell_type": "markdown",
   "metadata": {},
   "source": [
    "# --> Summary:\n",
    "![](https://4.bp.blogspot.com/-wG7IbjTfE6k/XGUvqm7TCVI/AAAAAAAAAZU/vpH1kuKTIooKTcVlnm1EVRCXLVZM9cPNgCLcBGAs/s1600/formula-MAE-MSE-RMSE-RSquared.JPG)"
   ]
  },
  {
   "cell_type": "markdown",
   "metadata": {},
   "source": [
    "##### Type Markdown and LaTeX: α^2"
   ]
  },
  {
   "cell_type": "code",
   "execution_count": 46,
   "metadata": {},
   "outputs": [],
   "source": [
    "from sklearn.metrics import mean_absolute_error, mean_squared_error, r2_score"
   ]
  },
  {
   "cell_type": "code",
   "execution_count": 47,
   "metadata": {},
   "outputs": [
    {
     "data": {
      "text/plain": [
       "24.097257411707837"
      ]
     },
     "execution_count": 47,
     "metadata": {},
     "output_type": "execute_result"
    }
   ],
   "source": [
    "mean_absolute_error(y_test, prediction2)"
   ]
  },
  {
   "cell_type": "code",
   "execution_count": 48,
   "metadata": {},
   "outputs": [
    {
     "data": {
      "text/plain": [
       "985.9381692274995"
      ]
     },
     "execution_count": 48,
     "metadata": {},
     "output_type": "execute_result"
    }
   ],
   "source": [
    "mean_squared_error(y_test, prediction2)"
   ]
  },
  {
   "cell_type": "code",
   "execution_count": 49,
   "metadata": {},
   "outputs": [
    {
     "data": {
      "text/plain": [
       "0.7615595731934374"
      ]
     },
     "execution_count": 49,
     "metadata": {},
     "output_type": "execute_result"
    }
   ],
   "source": [
    "r2_score(y_test, prediction2)"
   ]
  },
  {
   "cell_type": "code",
   "execution_count": 51,
   "metadata": {},
   "outputs": [
    {
     "data": {
      "image/png": "[encoded data removed]",
      "text/plain": [
       "<Figure size 432x288 with 1 Axes>"
      ]
     },
     "metadata": {
      "needs_background": "light"
     },
     "output_type": "display_data"
    }
   ],
   "source": [
    "plt.scatter(X_test.ENGINESIZE, y_test, label='Actual/GroundTruth')\n",
    "plt.scatter(X_test.ENGINESIZE, prediction2, label='Prediction')\n",
    "plt.legend()                                                                       # để dán nhãn đồ thị\n",
    "plt.show()"
   ]
  },
  {
   "cell_type": "markdown",
   "metadata": {},
   "source": [
    "## ** Cost function ~ Lost function ~ Evaluation metrics\n",
    "#### --> evaluation metrics (after training): chạy model xong (có model rồi) -> chạy trên test result xem model có tốt hay k?\n",
    "#### --> cost function ~ lost function (during training): trong khi training, tự đánh giá xem tập train đó thì độ sai số/ mất mát là bnhieu & giảm sai số đi nhiều nhất có thể"
   ]
  }
 ],
 "metadata": {
  "kernelspec": {
   "display_name": "Python 3",
   "language": "python",
   "name": "python3"
  },
  "language_info": {
   "codemirror_mode": {
    "name": "ipython",
    "version": 3
   },
   "file_extension": ".py",
   "mimetype": "text/x-python",
   "name": "python",
   "nbconvert_exporter": "python",
   "pygments_lexer": "ipython3",
   "version": "3.8.3"
  }
 },
 "nbformat": 4,
 "nbformat_minor": 5
}
